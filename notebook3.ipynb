{
 "cells": [
  {
   "cell_type": "code",
   "execution_count": 1,
   "id": "5afcfe89",
   "metadata": {},
   "outputs": [],
   "source": [
    "import tensorflow as tf\n",
    "from tensorflow.keras.applications import densenet\n",
    "from tensorflow.keras.applications.densenet import preprocess_input\n",
    "from tensorflow.keras.layers import Dense, Dropout, Input, Conv2D\n",
    "from tensorflow.keras.models import Model\n",
    "import numpy as np\n",
    "import pandas as pd\n",
    "import matplotlib.pyplot as plt\n",
    "import seaborn as sns\n",
    "from tqdm import tqdm\n",
    "import os\n",
    "import cv2\n",
    "import tensorflow as tf\n",
    "import re\n",
    "import pickle\n",
    "from PIL import Image\n",
    "from skimage.transform import resize\n",
    "import warnings"
   ]
  },
  {
   "cell_type": "code",
   "execution_count": 2,
   "id": "0511e2a7",
   "metadata": {},
   "outputs": [],
   "source": [
    "gpus = tf.config.experimental.list_physical_devices('GPU')\n",
    "if gpus:\n",
    "    try:\n",
    "        # Currently, memory growth needs to be the same across GPUs\n",
    "        for gpu in gpus:\n",
    "          tf.config.experimental.set_memory_growth(gpu, True)\n",
    "        logical_gpus = tf.config.experimental.list_logical_devices('GPU')\n",
    "        print(len(gpus), \"Physical GPUs,\", len(logical_gpus), \"Logical GPUs\")\n",
    "    except RuntimeError as e:\n",
    "        # Memory growth must be set before GPUs have been initialized\n",
    "        print(e)"
   ]
  },
  {
   "cell_type": "code",
   "execution_count": 3,
   "id": "882c3921",
   "metadata": {},
   "outputs": [],
   "source": [
    "def get_random_set():\n",
    "    obj = reqd[np.random.randint(len(reqd))]\n",
    "    for i in range(len(obj[\"imgs\"])):\n",
    "        plt.subplot(1, len(obj[\"imgs\"]),i+1)\n",
    "        plt.axis('off')\n",
    "        img = plt.imread(get_img_path(obj[\"imgs\"][i]))\n",
    "        plt.imshow(img)\n",
    "    print(obj[\"desc\"])\n",
    "\n",
    "def get_random_set2(df, k):\n",
    "    obj = df[k]\n",
    "    for i in range(len(obj[\"imgs\"])):\n",
    "        plt.subplot(1, len(obj[\"imgs\"]),i+1)\n",
    "        plt.axis('off')\n",
    "        img = plt.imread(get_img_path(obj[\"imgs\"][i]))\n",
    "        plt.imshow(img)\n",
    "    print(obj[\"desc\"])\n",
    "    \n",
    "def get_img_path(x):\n",
    "    return \"./imgs/\"+x+\".png\""
   ]
  },
  {
   "cell_type": "code",
   "execution_count": 4,
   "id": "be1fcfef",
   "metadata": {},
   "outputs": [],
   "source": [
    "train_dataset = pd.read_csv('df_train.csv')\n",
    "test_dataset = pd.read_csv('df_test.csv')\n",
    "cv_dataset = pd.read_csv('df_cv.csv')\n",
    "train_dataset = train_dataset.iloc[:,:-3]\n",
    "test_dataset = test_dataset.iloc[:,:-3]\n",
    "cv_dataset = cv_dataset.iloc[:,:-3]"
   ]
  },
  {
   "cell_type": "code",
   "execution_count": 5,
   "id": "0bab235d",
   "metadata": {},
   "outputs": [
    {
     "data": {
      "text/plain": [
       "(2068, 4)"
      ]
     },
     "execution_count": 5,
     "metadata": {},
     "output_type": "execute_result"
    }
   ],
   "source": [
    "train_dataset.shape"
   ]
  },
  {
   "cell_type": "code",
   "execution_count": 7,
   "id": "a878bdf8",
   "metadata": {},
   "outputs": [
    {
     "data": {
      "text/html": [
       "<div>\n",
       "<style scoped>\n",
       "    .dataframe tbody tr th:only-of-type {\n",
       "        vertical-align: middle;\n",
       "    }\n",
       "\n",
       "    .dataframe tbody tr th {\n",
       "        vertical-align: top;\n",
       "    }\n",
       "\n",
       "    .dataframe thead th {\n",
       "        text-align: right;\n",
       "    }\n",
       "</style>\n",
       "<table border=\"1\" class=\"dataframe\">\n",
       "  <thead>\n",
       "    <tr style=\"text-align: right;\">\n",
       "      <th></th>\n",
       "      <th>Unnamed: 0</th>\n",
       "      <th>desc</th>\n",
       "      <th>img1</th>\n",
       "      <th>img2</th>\n",
       "    </tr>\n",
       "  </thead>\n",
       "  <tbody>\n",
       "    <tr>\n",
       "      <th>0</th>\n",
       "      <td>0</td>\n",
       "      <td>startseq right upper lobe airspace disease con...</td>\n",
       "      <td>CXR3069_IM-1432-1001</td>\n",
       "      <td>CXR3069_IM-1432-2001</td>\n",
       "    </tr>\n",
       "    <tr>\n",
       "      <th>1</th>\n",
       "      <td>1</td>\n",
       "      <td>startseq mediastinal contours are normal lungs...</td>\n",
       "      <td>CXR2629_IM-1116-1001</td>\n",
       "      <td>CXR2629_IM-1116-2001</td>\n",
       "    </tr>\n",
       "    <tr>\n",
       "      <th>2</th>\n",
       "      <td>2</td>\n",
       "      <td>startseq cardiomediastinal contours are unchan...</td>\n",
       "      <td>CXR1888_IM-0576-1001</td>\n",
       "      <td>CXR1888_IM-0576-4004</td>\n",
       "    </tr>\n",
       "    <tr>\n",
       "      <th>3</th>\n",
       "      <td>3</td>\n",
       "      <td>startseq heart size normal the lungs are clear...</td>\n",
       "      <td>CXR2248_IM-0844-1001</td>\n",
       "      <td>CXR2248_IM-0844-1002</td>\n",
       "    </tr>\n",
       "    <tr>\n",
       "      <th>4</th>\n",
       "      <td>4</td>\n",
       "      <td>startseq the cardiomediastinal contours are wi...</td>\n",
       "      <td>CXR3408_IM-1648-1001</td>\n",
       "      <td>CXR3408_IM-1648-1002</td>\n",
       "    </tr>\n",
       "    <tr>\n",
       "      <th>...</th>\n",
       "      <td>...</td>\n",
       "      <td>...</td>\n",
       "      <td>...</td>\n",
       "      <td>...</td>\n",
       "    </tr>\n",
       "    <tr>\n",
       "      <th>2063</th>\n",
       "      <td>2331</td>\n",
       "      <td>startseq the heart normal size the mediastinum...</td>\n",
       "      <td>CXR2243_IM-0840-1001</td>\n",
       "      <td>CXR2243_IM-0840-2001</td>\n",
       "    </tr>\n",
       "    <tr>\n",
       "      <th>2064</th>\n",
       "      <td>2332</td>\n",
       "      <td>startseq normal heart size normal mediastinal ...</td>\n",
       "      <td>CXR1356_IM-0231-1001</td>\n",
       "      <td>CXR1356_IM-0231-2001</td>\n",
       "    </tr>\n",
       "    <tr>\n",
       "      <th>2065</th>\n",
       "      <td>2333</td>\n",
       "      <td>startseq frontal and lateral views the chest s...</td>\n",
       "      <td>CXR1883_IM-0572-1001</td>\n",
       "      <td>CXR1883_IM-0572-2001</td>\n",
       "    </tr>\n",
       "    <tr>\n",
       "      <th>2066</th>\n",
       "      <td>2334</td>\n",
       "      <td>startseq normal heart size and mediastinal con...</td>\n",
       "      <td>CXR2622_IM-1110-1001</td>\n",
       "      <td>CXR2622_IM-1110-1002</td>\n",
       "    </tr>\n",
       "    <tr>\n",
       "      <th>2067</th>\n",
       "      <td>2335</td>\n",
       "      <td>startseq there are low lung volumes with bibas...</td>\n",
       "      <td>CXR2185_IM-0795-1001</td>\n",
       "      <td>CXR2185_IM-0795-2001</td>\n",
       "    </tr>\n",
       "  </tbody>\n",
       "</table>\n",
       "<p>2068 rows × 4 columns</p>\n",
       "</div>"
      ],
      "text/plain": [
       "      Unnamed: 0                                               desc  \\\n",
       "0              0  startseq right upper lobe airspace disease con...   \n",
       "1              1  startseq mediastinal contours are normal lungs...   \n",
       "2              2  startseq cardiomediastinal contours are unchan...   \n",
       "3              3  startseq heart size normal the lungs are clear...   \n",
       "4              4  startseq the cardiomediastinal contours are wi...   \n",
       "...          ...                                                ...   \n",
       "2063        2331  startseq the heart normal size the mediastinum...   \n",
       "2064        2332  startseq normal heart size normal mediastinal ...   \n",
       "2065        2333  startseq frontal and lateral views the chest s...   \n",
       "2066        2334  startseq normal heart size and mediastinal con...   \n",
       "2067        2335  startseq there are low lung volumes with bibas...   \n",
       "\n",
       "                      img1                  img2  \n",
       "0     CXR3069_IM-1432-1001  CXR3069_IM-1432-2001  \n",
       "1     CXR2629_IM-1116-1001  CXR2629_IM-1116-2001  \n",
       "2     CXR1888_IM-0576-1001  CXR1888_IM-0576-4004  \n",
       "3     CXR2248_IM-0844-1001  CXR2248_IM-0844-1002  \n",
       "4     CXR3408_IM-1648-1001  CXR3408_IM-1648-1002  \n",
       "...                    ...                   ...  \n",
       "2063  CXR2243_IM-0840-1001  CXR2243_IM-0840-2001  \n",
       "2064  CXR1356_IM-0231-1001  CXR1356_IM-0231-2001  \n",
       "2065  CXR1883_IM-0572-1001  CXR1883_IM-0572-2001  \n",
       "2066  CXR2622_IM-1110-1001  CXR2622_IM-1110-1002  \n",
       "2067  CXR2185_IM-0795-1001  CXR2185_IM-0795-2001  \n",
       "\n",
       "[2068 rows x 4 columns]"
      ]
     },
     "execution_count": 7,
     "metadata": {},
     "output_type": "execute_result"
    }
   ],
   "source": [
    "train_dataset"
   ]
  },
  {
   "cell_type": "code",
   "execution_count": 8,
   "id": "f0b703d1",
   "metadata": {},
   "outputs": [],
   "source": [
    "def load_image(img_name):\n",
    "    image = Image.open(img_name)\n",
    "    X = np.asarray(image.convert(\"RGB\"))\n",
    "    X = np.asarray(X)\n",
    "    X = preprocess_input(X)\n",
    "    X = resize(X, (224,224,3))\n",
    "    X = np.expand_dims(X, axis=0)\n",
    "    X = np.asarray(X)\n",
    "    \n",
    "    return X"
   ]
  },
  {
   "cell_type": "code",
   "execution_count": 9,
   "id": "99898eb6",
   "metadata": {},
   "outputs": [],
   "source": [
    "chex = densenet.DenseNet121(include_top=False, weights = None, input_shape=(224,224,3))"
   ]
  },
  {
   "cell_type": "code",
   "execution_count": 10,
   "id": "f178d27e",
   "metadata": {},
   "outputs": [],
   "source": [
    "X = chex.output\n",
    "X = Dense(14, activation=\"sigmoid\", name=\"predictions\")(X)\n",
    "model = Model(inputs=chex.input, outputs=X)"
   ]
  },
  {
   "cell_type": "code",
   "execution_count": 11,
   "id": "12e6b78b",
   "metadata": {},
   "outputs": [],
   "source": [
    "model.load_weights(r'./utils/Image_features_enc.h5')"
   ]
  },
  {
   "cell_type": "code",
   "execution_count": 12,
   "id": "1de2b039",
   "metadata": {},
   "outputs": [],
   "source": [
    "model = Model(inputs = model.input, outputs = model.layers[-2].output)"
   ]
  },
  {
   "cell_type": "code",
   "execution_count": 13,
   "id": "f1f151c3",
   "metadata": {},
   "outputs": [
    {
     "data": {
      "text/plain": [
       "array([[[[0.00000000e+00, 1.74237613e-03, 1.74926291e-03, ...,\n",
       "          0.00000000e+00, 9.08352911e-01, 0.00000000e+00],\n",
       "         [0.00000000e+00, 7.75454449e-04, 1.02490652e-04, ...,\n",
       "          0.00000000e+00, 9.08352911e-01, 0.00000000e+00],\n",
       "         [0.00000000e+00, 1.94744114e-03, 0.00000000e+00, ...,\n",
       "          0.00000000e+00, 9.08352911e-01, 0.00000000e+00],\n",
       "         ...,\n",
       "         [0.00000000e+00, 2.04543024e-03, 3.11607029e-03, ...,\n",
       "          0.00000000e+00, 9.18015361e-01, 0.00000000e+00],\n",
       "         [0.00000000e+00, 0.00000000e+00, 7.17697898e-03, ...,\n",
       "          0.00000000e+00, 1.01544106e+00, 0.00000000e+00],\n",
       "         [0.00000000e+00, 0.00000000e+00, 1.83308180e-02, ...,\n",
       "          0.00000000e+00, 1.01375687e+00, 0.00000000e+00]],\n",
       "\n",
       "        [[0.00000000e+00, 0.00000000e+00, 0.00000000e+00, ...,\n",
       "          0.00000000e+00, 9.13167894e-01, 0.00000000e+00],\n",
       "         [0.00000000e+00, 1.70722569e-03, 6.81012822e-03, ...,\n",
       "          0.00000000e+00, 9.13859665e-01, 0.00000000e+00],\n",
       "         [0.00000000e+00, 0.00000000e+00, 0.00000000e+00, ...,\n",
       "          0.00000000e+00, 9.13597405e-01, 0.00000000e+00],\n",
       "         ...,\n",
       "         [7.27829523e-04, 0.00000000e+00, 4.33862256e-03, ...,\n",
       "          0.00000000e+00, 9.19095337e-01, 0.00000000e+00],\n",
       "         [0.00000000e+00, 3.06915632e-03, 1.34896785e-02, ...,\n",
       "          0.00000000e+00, 1.03208971e+00, 0.00000000e+00],\n",
       "         [0.00000000e+00, 6.29123626e-03, 3.39503563e-03, ...,\n",
       "          0.00000000e+00, 1.03840148e+00, 0.00000000e+00]],\n",
       "\n",
       "        [[0.00000000e+00, 3.51312384e-03, 2.12421687e-03, ...,\n",
       "          0.00000000e+00, 9.31748450e-01, 0.00000000e+00],\n",
       "         [0.00000000e+00, 1.25637557e-03, 0.00000000e+00, ...,\n",
       "          0.00000000e+00, 9.60135400e-01, 0.00000000e+00],\n",
       "         [0.00000000e+00, 0.00000000e+00, 0.00000000e+00, ...,\n",
       "          0.00000000e+00, 9.60164726e-01, 0.00000000e+00],\n",
       "         ...,\n",
       "         [2.01288052e-03, 0.00000000e+00, 1.38671827e-02, ...,\n",
       "          0.00000000e+00, 9.07923698e-01, 0.00000000e+00],\n",
       "         [0.00000000e+00, 0.00000000e+00, 1.68049224e-02, ...,\n",
       "          0.00000000e+00, 1.00990689e+00, 0.00000000e+00],\n",
       "         [0.00000000e+00, 5.46450913e-03, 6.84713805e-03, ...,\n",
       "          0.00000000e+00, 1.01450181e+00, 0.00000000e+00]],\n",
       "\n",
       "        ...,\n",
       "\n",
       "        [[0.00000000e+00, 2.47071427e-03, 2.80803442e-03, ...,\n",
       "          0.00000000e+00, 9.59226429e-01, 0.00000000e+00],\n",
       "         [0.00000000e+00, 9.39958147e-04, 0.00000000e+00, ...,\n",
       "          0.00000000e+00, 1.00788522e+00, 0.00000000e+00],\n",
       "         [0.00000000e+00, 1.42461213e-03, 0.00000000e+00, ...,\n",
       "          0.00000000e+00, 1.02262807e+00, 0.00000000e+00],\n",
       "         ...,\n",
       "         [0.00000000e+00, 1.84536353e-03, 0.00000000e+00, ...,\n",
       "          0.00000000e+00, 9.12352502e-01, 0.00000000e+00],\n",
       "         [0.00000000e+00, 9.54229734e-04, 3.99951095e-05, ...,\n",
       "          0.00000000e+00, 9.09335554e-01, 0.00000000e+00],\n",
       "         [0.00000000e+00, 4.16635768e-03, 6.77448092e-03, ...,\n",
       "          0.00000000e+00, 9.10845459e-01, 0.00000000e+00]],\n",
       "\n",
       "        [[0.00000000e+00, 9.25469794e-04, 3.97945900e-04, ...,\n",
       "          7.94544601e+00, 0.00000000e+00, 7.14135504e+00],\n",
       "         [0.00000000e+00, 2.36420776e-03, 0.00000000e+00, ...,\n",
       "          8.30877972e+00, 0.00000000e+00, 8.56287193e+00],\n",
       "         [4.13449568e-04, 1.54998631e-03, 0.00000000e+00, ...,\n",
       "          4.39336061e+00, 0.00000000e+00, 3.95040083e+00],\n",
       "         ...,\n",
       "         [0.00000000e+00, 4.81652468e-03, 3.86366504e-03, ...,\n",
       "          0.00000000e+00, 9.13855672e-01, 0.00000000e+00],\n",
       "         [0.00000000e+00, 4.16260865e-03, 0.00000000e+00, ...,\n",
       "          0.00000000e+00, 9.05004740e-01, 0.00000000e+00],\n",
       "         [0.00000000e+00, 2.53391336e-03, 6.00238284e-03, ...,\n",
       "          0.00000000e+00, 9.05853927e-01, 0.00000000e+00]],\n",
       "\n",
       "        [[0.00000000e+00, 0.00000000e+00, 2.65414896e-03, ...,\n",
       "          7.67558098e+00, 0.00000000e+00, 4.63581085e+00],\n",
       "         [0.00000000e+00, 0.00000000e+00, 4.75134701e-03, ...,\n",
       "          8.22391319e+00, 0.00000000e+00, 6.62209558e+00],\n",
       "         [0.00000000e+00, 3.71807400e-04, 4.82748589e-03, ...,\n",
       "          4.46064854e+00, 0.00000000e+00, 2.57763267e+00],\n",
       "         ...,\n",
       "         [0.00000000e+00, 0.00000000e+00, 2.46239419e-04, ...,\n",
       "          0.00000000e+00, 9.08255577e-01, 0.00000000e+00],\n",
       "         [0.00000000e+00, 0.00000000e+00, 0.00000000e+00, ...,\n",
       "          0.00000000e+00, 9.03354466e-01, 0.00000000e+00],\n",
       "         [0.00000000e+00, 1.95199309e-03, 3.68644530e-03, ...,\n",
       "          0.00000000e+00, 9.03061032e-01, 0.00000000e+00]]]],\n",
       "      dtype=float32)"
      ]
     },
     "execution_count": 13,
     "metadata": {},
     "output_type": "execute_result"
    }
   ],
   "source": [
    "model.predict(load_image(get_img_path(train_dataset.iloc[0][\"img1\"])))"
   ]
  },
  {
   "cell_type": "code",
   "execution_count": 14,
   "id": "332bea69",
   "metadata": {},
   "outputs": [],
   "source": [
    "def image_features(train, test, cv):\n",
    "    Xnet_features_attention = {}\n",
    "    \n",
    "    for item in tqdm(train.values):\n",
    "        key = item[0]\n",
    "        img1 = load_image(get_img_path(item[2]))\n",
    "        img1_features = model.predict(img1)\n",
    "        \n",
    "        img2 = load_image(get_img_path(item[3]))\n",
    "        img2_features = model.predict(img2)\n",
    "\n",
    "        input_ = np.concatenate((img1_features, img2_features), axis=2)\n",
    "        input_ = tf.reshape(input_, (input_.shape[0], -1, input_.shape[-1]))\n",
    "\n",
    "        Xnet_features_attention[key] = input_\n",
    "    \n",
    "    for item in tqdm(test.values):\n",
    "        key = item[0]\n",
    "        img1 = load_image(get_img_path(item[2]))\n",
    "        img1_features = model.predict(img1)\n",
    "        \n",
    "        img2 = load_image(get_img_path(item[3]))\n",
    "        img2_features = model.predict(img2)\n",
    "\n",
    "        input_ = np.concatenate((img1_features, img2_features), axis=2)\n",
    "        input_ = tf.reshape(input_, (input_.shape[0], -1, input_.shape[-1]))\n",
    "\n",
    "        Xnet_features_attention[key] = input_\n",
    "\n",
    "    for item in tqdm(cv.values):\n",
    "        key = item[0]\n",
    "        img1 = load_image(get_img_path(item[2]))\n",
    "        img1_features = model.predict(img1)\n",
    "        \n",
    "        img2 = load_image(get_img_path(item[3]))\n",
    "        img2_features = model.predict(img2)\n",
    "\n",
    "        input_ = np.concatenate((img1_features, img2_features), axis=2)\n",
    "        input_ = tf.reshape(input_, (input_.shape[0], -1, input_.shape[-1]))\n",
    "\n",
    "        Xnet_features_attention[key] = input_\n",
    "        \n",
    "    return Xnet_features_attention"
   ]
  },
  {
   "cell_type": "code",
   "execution_count": 16,
   "id": "64ba0e23",
   "metadata": {},
   "outputs": [
    {
     "name": "stderr",
     "output_type": "stream",
     "text": [
      "100%|██████████| 2068/2068 [09:07<00:00,  3.78it/s]\n",
      "100%|██████████| 443/443 [01:50<00:00,  4.02it/s]\n",
      "100%|██████████| 444/444 [01:50<00:00,  4.00it/s]\n"
     ]
    }
   ],
   "source": [
    "Xnet_features_attention = image_features(train_dataset, test_dataset, cv_dataset)"
   ]
  },
  {
   "cell_type": "code",
   "execution_count": 20,
   "id": "f1ab1d8b",
   "metadata": {},
   "outputs": [
    {
     "data": {
      "text/plain": [
       "2955"
      ]
     },
     "execution_count": 20,
     "metadata": {},
     "output_type": "execute_result"
    }
   ],
   "source": [
    "len(Xnet_features_attention)"
   ]
  },
  {
   "cell_type": "code",
   "execution_count": 17,
   "id": "635acb37",
   "metadata": {},
   "outputs": [],
   "source": [
    "# save the file for future use\n",
    "f = open('Image_features_attention.pickle','wb')\n",
    "pickle.dump(Xnet_features_attention, f)\n",
    "f.close()"
   ]
  },
  {
   "cell_type": "code",
   "execution_count": null,
   "id": "9ad496dc",
   "metadata": {},
   "outputs": [],
   "source": []
  }
 ],
 "metadata": {
  "kernelspec": {
   "display_name": "Python 3 (ipykernel)",
   "language": "python",
   "name": "python3"
  },
  "language_info": {
   "codemirror_mode": {
    "name": "ipython",
    "version": 3
   },
   "file_extension": ".py",
   "mimetype": "text/x-python",
   "name": "python",
   "nbconvert_exporter": "python",
   "pygments_lexer": "ipython3",
   "version": "3.9.12"
  }
 },
 "nbformat": 4,
 "nbformat_minor": 5
}
