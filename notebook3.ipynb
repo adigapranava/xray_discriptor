{
 "cells": [
  {
   "cell_type": "code",
   "execution_count": 1,
   "id": "5afcfe89",
   "metadata": {},
   "outputs": [],
   "source": [
    "import tensorflow as tf\n",
    "from tensorflow.keras.applications import densenet\n",
    "from tensorflow.keras.applications.densenet import preprocess_input\n",
    "from tensorflow.keras.layers import Dense, Dropout, Input, Conv2D\n",
    "from tensorflow.keras.models import Model\n",
    "import numpy as np\n",
    "import pandas as pd\n",
    "import matplotlib.pyplot as plt\n",
    "import seaborn as sns\n",
    "from tqdm import tqdm\n",
    "import os\n",
    "import cv2\n",
    "import tensorflow as tf\n",
    "import re\n",
    "import pickle\n",
    "from PIL import Image\n",
    "from skimage.transform import resize\n",
    "import warnings"
   ]
  },
  {
   "cell_type": "code",
   "execution_count": 2,
   "id": "0511e2a7",
   "metadata": {},
   "outputs": [],
   "source": [
    "gpus = tf.config.experimental.list_physical_devices('GPU')\n",
    "if gpus:\n",
    "    try:\n",
    "        # Currently, memory growth needs to be the same across GPUs\n",
    "        for gpu in gpus:\n",
    "          tf.config.experimental.set_memory_growth(gpu, True)\n",
    "        logical_gpus = tf.config.experimental.list_logical_devices('GPU')\n",
    "        print(len(gpus), \"Physical GPUs,\", len(logical_gpus), \"Logical GPUs\")\n",
    "    except RuntimeError as e:\n",
    "        # Memory growth must be set before GPUs have been initialized\n",
    "        print(e)"
   ]
  },
  {
   "cell_type": "code",
   "execution_count": 3,
   "id": "a531faf5",
   "metadata": {},
   "outputs": [],
   "source": [
    "def get_random_set():\n",
    "    obj = reqd[np.random.randint(len(reqd))]\n",
    "    for i in range(len(obj[\"imgs\"])):\n",
    "        plt.subplot(1, len(obj[\"imgs\"]),i+1)\n",
    "        plt.axis('off')\n",
    "        img = plt.imread(get_img_path(obj[\"imgs\"][i]))\n",
    "        plt.imshow(img)\n",
    "    print(obj[\"desc\"])\n",
    "\n",
    "def get_random_set2(df, k):\n",
    "    obj = df[k]\n",
    "    for i in range(len(obj[\"imgs\"])):\n",
    "        plt.subplot(1, len(obj[\"imgs\"]),i+1)\n",
    "        plt.axis('off')\n",
    "        img = plt.imread(get_img_path(obj[\"imgs\"][i]))\n",
    "        plt.imshow(img)\n",
    "    print(obj[\"desc\"])\n",
    "    \n",
    "def get_img_path(x):\n",
    "    return \"./imgs/\"+x+\".png\""
   ]
  },
  {
   "cell_type": "code",
   "execution_count": 4,
   "id": "1094d707",
   "metadata": {},
   "outputs": [],
   "source": [
    "train_dataset = pd.read_csv('df_train.csv')\n",
    "test_dataset = pd.read_csv('df_test.csv')\n",
    "cv_dataset = pd.read_csv('df_cv.csv')\n",
    "train_dataset = train_dataset.iloc[:,:-3]\n",
    "test_dataset = test_dataset.iloc[:,:-3]\n",
    "cv_dataset = cv_dataset.iloc[:,:-3]"
   ]
  },
  {
   "cell_type": "code",
   "execution_count": 5,
   "id": "27564013",
   "metadata": {},
   "outputs": [
    {
     "data": {
      "text/plain": [
       "(2068, 4)"
      ]
     },
     "execution_count": 5,
     "metadata": {},
     "output_type": "execute_result"
    }
   ],
   "source": [
    "train_dataset.shape"
   ]
  },
  {
   "cell_type": "code",
   "execution_count": 6,
   "id": "2416ca2a",
   "metadata": {},
   "outputs": [
    {
     "data": {
      "text/html": [
       "<div>\n",
       "<style scoped>\n",
       "    .dataframe tbody tr th:only-of-type {\n",
       "        vertical-align: middle;\n",
       "    }\n",
       "\n",
       "    .dataframe tbody tr th {\n",
       "        vertical-align: top;\n",
       "    }\n",
       "\n",
       "    .dataframe thead th {\n",
       "        text-align: right;\n",
       "    }\n",
       "</style>\n",
       "<table border=\"1\" class=\"dataframe\">\n",
       "  <thead>\n",
       "    <tr style=\"text-align: right;\">\n",
       "      <th></th>\n",
       "      <th>Unnamed: 0</th>\n",
       "      <th>desc</th>\n",
       "      <th>img1</th>\n",
       "      <th>img2</th>\n",
       "    </tr>\n",
       "  </thead>\n",
       "  <tbody>\n",
       "    <tr>\n",
       "      <th>0</th>\n",
       "      <td>0</td>\n",
       "      <td>startseq right upper lobe airspace disease con...</td>\n",
       "      <td>CXR3069_IM-1432-1001</td>\n",
       "      <td>CXR3069_IM-1432-2001</td>\n",
       "    </tr>\n",
       "    <tr>\n",
       "      <th>1</th>\n",
       "      <td>1</td>\n",
       "      <td>startseq mediastinal contours are normal lungs...</td>\n",
       "      <td>CXR2629_IM-1116-1001</td>\n",
       "      <td>CXR2629_IM-1116-2001</td>\n",
       "    </tr>\n",
       "    <tr>\n",
       "      <th>2</th>\n",
       "      <td>2</td>\n",
       "      <td>startseq cardiomediastinal contours are unchan...</td>\n",
       "      <td>CXR1888_IM-0576-1001</td>\n",
       "      <td>CXR1888_IM-0576-4004</td>\n",
       "    </tr>\n",
       "    <tr>\n",
       "      <th>3</th>\n",
       "      <td>3</td>\n",
       "      <td>startseq heart size normal the lungs are clear...</td>\n",
       "      <td>CXR2248_IM-0844-1001</td>\n",
       "      <td>CXR2248_IM-0844-1002</td>\n",
       "    </tr>\n",
       "    <tr>\n",
       "      <th>4</th>\n",
       "      <td>4</td>\n",
       "      <td>startseq the cardiomediastinal contours are wi...</td>\n",
       "      <td>CXR3408_IM-1648-1001</td>\n",
       "      <td>CXR3408_IM-1648-1002</td>\n",
       "    </tr>\n",
       "    <tr>\n",
       "      <th>...</th>\n",
       "      <td>...</td>\n",
       "      <td>...</td>\n",
       "      <td>...</td>\n",
       "      <td>...</td>\n",
       "    </tr>\n",
       "    <tr>\n",
       "      <th>2063</th>\n",
       "      <td>2331</td>\n",
       "      <td>startseq the heart normal size the mediastinum...</td>\n",
       "      <td>CXR2243_IM-0840-1001</td>\n",
       "      <td>CXR2243_IM-0840-2001</td>\n",
       "    </tr>\n",
       "    <tr>\n",
       "      <th>2064</th>\n",
       "      <td>2332</td>\n",
       "      <td>startseq normal heart size normal mediastinal ...</td>\n",
       "      <td>CXR1356_IM-0231-1001</td>\n",
       "      <td>CXR1356_IM-0231-2001</td>\n",
       "    </tr>\n",
       "    <tr>\n",
       "      <th>2065</th>\n",
       "      <td>2333</td>\n",
       "      <td>startseq frontal and lateral views the chest s...</td>\n",
       "      <td>CXR1883_IM-0572-1001</td>\n",
       "      <td>CXR1883_IM-0572-2001</td>\n",
       "    </tr>\n",
       "    <tr>\n",
       "      <th>2066</th>\n",
       "      <td>2334</td>\n",
       "      <td>startseq normal heart size and mediastinal con...</td>\n",
       "      <td>CXR2622_IM-1110-1001</td>\n",
       "      <td>CXR2622_IM-1110-1002</td>\n",
       "    </tr>\n",
       "    <tr>\n",
       "      <th>2067</th>\n",
       "      <td>2335</td>\n",
       "      <td>startseq there are low lung volumes with bibas...</td>\n",
       "      <td>CXR2185_IM-0795-1001</td>\n",
       "      <td>CXR2185_IM-0795-2001</td>\n",
       "    </tr>\n",
       "  </tbody>\n",
       "</table>\n",
       "<p>2068 rows × 4 columns</p>\n",
       "</div>"
      ],
      "text/plain": [
       "      Unnamed: 0                                               desc  \\\n",
       "0              0  startseq right upper lobe airspace disease con...   \n",
       "1              1  startseq mediastinal contours are normal lungs...   \n",
       "2              2  startseq cardiomediastinal contours are unchan...   \n",
       "3              3  startseq heart size normal the lungs are clear...   \n",
       "4              4  startseq the cardiomediastinal contours are wi...   \n",
       "...          ...                                                ...   \n",
       "2063        2331  startseq the heart normal size the mediastinum...   \n",
       "2064        2332  startseq normal heart size normal mediastinal ...   \n",
       "2065        2333  startseq frontal and lateral views the chest s...   \n",
       "2066        2334  startseq normal heart size and mediastinal con...   \n",
       "2067        2335  startseq there are low lung volumes with bibas...   \n",
       "\n",
       "                      img1                  img2  \n",
       "0     CXR3069_IM-1432-1001  CXR3069_IM-1432-2001  \n",
       "1     CXR2629_IM-1116-1001  CXR2629_IM-1116-2001  \n",
       "2     CXR1888_IM-0576-1001  CXR1888_IM-0576-4004  \n",
       "3     CXR2248_IM-0844-1001  CXR2248_IM-0844-1002  \n",
       "4     CXR3408_IM-1648-1001  CXR3408_IM-1648-1002  \n",
       "...                    ...                   ...  \n",
       "2063  CXR2243_IM-0840-1001  CXR2243_IM-0840-2001  \n",
       "2064  CXR1356_IM-0231-1001  CXR1356_IM-0231-2001  \n",
       "2065  CXR1883_IM-0572-1001  CXR1883_IM-0572-2001  \n",
       "2066  CXR2622_IM-1110-1001  CXR2622_IM-1110-1002  \n",
       "2067  CXR2185_IM-0795-1001  CXR2185_IM-0795-2001  \n",
       "\n",
       "[2068 rows x 4 columns]"
      ]
     },
     "execution_count": 6,
     "metadata": {},
     "output_type": "execute_result"
    }
   ],
   "source": [
    "train_dataset"
   ]
  },
  {
   "cell_type": "code",
   "execution_count": 7,
   "id": "f0cb42cc",
   "metadata": {},
   "outputs": [],
   "source": [
    "def load_image(img_name):\n",
    "    image = Image.open(img_name)\n",
    "    X = np.asarray(image.convert(\"RGB\"))\n",
    "    X = np.asarray(X)\n",
    "    X = preprocess_input(X)\n",
    "    X = resize(X, (224,224,3))\n",
    "    X = np.expand_dims(X, axis=0)\n",
    "    X = np.asarray(X)\n",
    "    \n",
    "    return X"
   ]
  },
  {
   "cell_type": "code",
   "execution_count": 8,
   "id": "99898eb6",
   "metadata": {},
   "outputs": [],
   "source": [
    "chex = densenet.DenseNet121(include_top=False, weights = None, input_shape=(224,224,3), pooling=\"avg\")"
   ]
  },
  {
   "cell_type": "code",
   "execution_count": 9,
   "id": "f178d27e",
   "metadata": {},
   "outputs": [],
   "source": [
    "X = chex.output\n",
    "X = Dense(14, activation=\"sigmoid\", name=\"predictions\")(X)\n",
    "model = Model(inputs=chex.input, outputs=X)"
   ]
  },
  {
   "cell_type": "code",
   "execution_count": 10,
   "id": "12e6b78b",
   "metadata": {},
   "outputs": [],
   "source": [
    "model.load_weights(r'./utils/Image_features_enc.h5')"
   ]
  },
  {
   "cell_type": "code",
   "execution_count": 11,
   "id": "1de2b039",
   "metadata": {},
   "outputs": [],
   "source": [
    "model = Model(inputs = model.input, outputs = model.layers[-2].output)"
   ]
  },
  {
   "cell_type": "code",
   "execution_count": 12,
   "id": "f1f151c3",
   "metadata": {},
   "outputs": [],
   "source": [
    "img1 = model.predict(load_image(get_img_path(train_dataset.iloc[0][\"img1\"])))\n",
    "img2 = model.predict(load_image(get_img_path(train_dataset.iloc[0][\"img2\"])))"
   ]
  },
  {
   "cell_type": "code",
   "execution_count": 13,
   "id": "d4c078ad",
   "metadata": {},
   "outputs": [
    {
     "data": {
      "text/plain": [
       "array([[6.8697002e-04, 1.3616269e-03, 3.8314806e-03, ..., 8.3689243e-01,\n",
       "        8.2594419e-01, 6.8347275e-01]], dtype=float32)"
      ]
     },
     "execution_count": 13,
     "metadata": {},
     "output_type": "execute_result"
    }
   ],
   "source": [
    "img1"
   ]
  },
  {
   "cell_type": "code",
   "execution_count": 14,
   "id": "9d884df6",
   "metadata": {},
   "outputs": [
    {
     "data": {
      "text/plain": [
       "(1, 2048)"
      ]
     },
     "execution_count": 14,
     "metadata": {},
     "output_type": "execute_result"
    }
   ],
   "source": [
    "input_ = np.concatenate((img1, img2), axis=1)\n",
    "# input_ = tf.reshape(input_, (input_.shape[0], -1, input_.shape[-1]))\n",
    "input_.shape\n"
   ]
  },
  {
   "cell_type": "markdown",
   "id": "915c1566",
   "metadata": {},
   "source": []
  },
  {
   "cell_type": "code",
   "execution_count": 15,
   "id": "332bea69",
   "metadata": {},
   "outputs": [],
   "source": [
    "def image_features(train, test, cv):\n",
    "    Xnet_features_attention = {}\n",
    "    \n",
    "    for i, item in enumerate(tqdm(train.values)):\n",
    "        key = \"train_\" + str(i)\n",
    "        img1 = load_image(get_img_path(item[2]))\n",
    "        img1_features = model.predict(img1)\n",
    "        \n",
    "        img2 = load_image(get_img_path(item[3]))\n",
    "        img2_features = model.predict(img2)\n",
    "\n",
    "        input_ = np.concatenate((img1_features, img2_features), axis=1)\n",
    "#         input_ = tf.reshape(input_, (input_.shape[0], -1, input_.shape[-1]))\n",
    "\n",
    "        Xnet_features_attention[key] = input_\n",
    "    \n",
    "    for i, item in enumerate(tqdm(test.values)):\n",
    "        key = \"test_\" + str(i)\n",
    "        img1 = load_image(get_img_path(item[2]))\n",
    "        img1_features = model.predict(img1)\n",
    "        \n",
    "        img2 = load_image(get_img_path(item[3]))\n",
    "        img2_features = model.predict(img2)\n",
    "\n",
    "        input_ = np.concatenate((img1_features, img2_features), axis=1)\n",
    "#         input_ = tf.reshape(input_, (input_.shape[0], -1, input_.shape[-1]))\n",
    "\n",
    "        Xnet_features_attention[key] = input_\n",
    "\n",
    "    for i, item in enumerate(tqdm(cv.values)):\n",
    "        key = \"cv_\" + str(i)\n",
    "        img1 = load_image(get_img_path(item[2]))\n",
    "        img1_features = model.predict(img1)\n",
    "        \n",
    "        img2 = load_image(get_img_path(item[3]))\n",
    "        img2_features = model.predict(img2)\n",
    "\n",
    "        input_ = np.concatenate((img1_features, img2_features), axis=1)\n",
    "#         input_ = tf.reshape(input_, (input_.shape[0], -1, input_.shape[-1]))\n",
    "\n",
    "        Xnet_features_attention[key] = input_\n",
    "        \n",
    "    return Xnet_features_attention"
   ]
  },
  {
   "cell_type": "code",
   "execution_count": 16,
   "id": "64ba0e23",
   "metadata": {},
   "outputs": [
    {
     "name": "stderr",
     "output_type": "stream",
     "text": [
      "100%|██████████| 2068/2068 [08:51<00:00,  3.89it/s]\n",
      "100%|██████████| 443/443 [02:06<00:00,  3.50it/s]\n",
      "100%|██████████| 444/444 [02:07<00:00,  3.49it/s]\n"
     ]
    }
   ],
   "source": [
    "Xnet_features_attention = image_features(train_dataset, test_dataset, cv_dataset)"
   ]
  },
  {
   "cell_type": "code",
   "execution_count": 18,
   "id": "f1ab1d8b",
   "metadata": {},
   "outputs": [
    {
     "data": {
      "text/plain": [
       "dict_keys(['train_0', 'train_1', 'train_2', 'train_3', 'train_4', 'train_5', 'train_6', 'train_7', 'train_8', 'train_9', 'train_10', 'train_11', 'train_12', 'train_13', 'train_14', 'train_15', 'train_16', 'train_17', 'train_18', 'train_19', 'train_20', 'train_21', 'train_22', 'train_23', 'train_24', 'train_25', 'train_26', 'train_27', 'train_28', 'train_29', 'train_30', 'train_31', 'train_32', 'train_33', 'train_34', 'train_35', 'train_36', 'train_37', 'train_38', 'train_39', 'train_40', 'train_41', 'train_42', 'train_43', 'train_44', 'train_45', 'train_46', 'train_47', 'train_48', 'train_49', 'train_50', 'train_51', 'train_52', 'train_53', 'train_54', 'train_55', 'train_56', 'train_57', 'train_58', 'train_59', 'train_60', 'train_61', 'train_62', 'train_63', 'train_64', 'train_65', 'train_66', 'train_67', 'train_68', 'train_69', 'train_70', 'train_71', 'train_72', 'train_73', 'train_74', 'train_75', 'train_76', 'train_77', 'train_78', 'train_79', 'train_80', 'train_81', 'train_82', 'train_83', 'train_84', 'train_85', 'train_86', 'train_87', 'train_88', 'train_89', 'train_90', 'train_91', 'train_92', 'train_93', 'train_94', 'train_95', 'train_96', 'train_97', 'train_98', 'train_99', 'train_100', 'train_101', 'train_102', 'train_103', 'train_104', 'train_105', 'train_106', 'train_107', 'train_108', 'train_109', 'train_110', 'train_111', 'train_112', 'train_113', 'train_114', 'train_115', 'train_116', 'train_117', 'train_118', 'train_119', 'train_120', 'train_121', 'train_122', 'train_123', 'train_124', 'train_125', 'train_126', 'train_127', 'train_128', 'train_129', 'train_130', 'train_131', 'train_132', 'train_133', 'train_134', 'train_135', 'train_136', 'train_137', 'train_138', 'train_139', 'train_140', 'train_141', 'train_142', 'train_143', 'train_144', 'train_145', 'train_146', 'train_147', 'train_148', 'train_149', 'train_150', 'train_151', 'train_152', 'train_153', 'train_154', 'train_155', 'train_156', 'train_157', 'train_158', 'train_159', 'train_160', 'train_161', 'train_162', 'train_163', 'train_164', 'train_165', 'train_166', 'train_167', 'train_168', 'train_169', 'train_170', 'train_171', 'train_172', 'train_173', 'train_174', 'train_175', 'train_176', 'train_177', 'train_178', 'train_179', 'train_180', 'train_181', 'train_182', 'train_183', 'train_184', 'train_185', 'train_186', 'train_187', 'train_188', 'train_189', 'train_190', 'train_191', 'train_192', 'train_193', 'train_194', 'train_195', 'train_196', 'train_197', 'train_198', 'train_199', 'train_200', 'train_201', 'train_202', 'train_203', 'train_204', 'train_205', 'train_206', 'train_207', 'train_208', 'train_209', 'train_210', 'train_211', 'train_212', 'train_213', 'train_214', 'train_215', 'train_216', 'train_217', 'train_218', 'train_219', 'train_220', 'train_221', 'train_222', 'train_223', 'train_224', 'train_225', 'train_226', 'train_227', 'train_228', 'train_229', 'train_230', 'train_231', 'train_232', 'train_233', 'train_234', 'train_235', 'train_236', 'train_237', 'train_238', 'train_239', 'train_240', 'train_241', 'train_242', 'train_243', 'train_244', 'train_245', 'train_246', 'train_247', 'train_248', 'train_249', 'train_250', 'train_251', 'train_252', 'train_253', 'train_254', 'train_255', 'train_256', 'train_257', 'train_258', 'train_259', 'train_260', 'train_261', 'train_262', 'train_263', 'train_264', 'train_265', 'train_266', 'train_267', 'train_268', 'train_269', 'train_270', 'train_271', 'train_272', 'train_273', 'train_274', 'train_275', 'train_276', 'train_277', 'train_278', 'train_279', 'train_280', 'train_281', 'train_282', 'train_283', 'train_284', 'train_285', 'train_286', 'train_287', 'train_288', 'train_289', 'train_290', 'train_291', 'train_292', 'train_293', 'train_294', 'train_295', 'train_296', 'train_297', 'train_298', 'train_299', 'train_300', 'train_301', 'train_302', 'train_303', 'train_304', 'train_305', 'train_306', 'train_307', 'train_308', 'train_309', 'train_310', 'train_311', 'train_312', 'train_313', 'train_314', 'train_315', 'train_316', 'train_317', 'train_318', 'train_319', 'train_320', 'train_321', 'train_322', 'train_323', 'train_324', 'train_325', 'train_326', 'train_327', 'train_328', 'train_329', 'train_330', 'train_331', 'train_332', 'train_333', 'train_334', 'train_335', 'train_336', 'train_337', 'train_338', 'train_339', 'train_340', 'train_341', 'train_342', 'train_343', 'train_344', 'train_345', 'train_346', 'train_347', 'train_348', 'train_349', 'train_350', 'train_351', 'train_352', 'train_353', 'train_354', 'train_355', 'train_356', 'train_357', 'train_358', 'train_359', 'train_360', 'train_361', 'train_362', 'train_363', 'train_364', 'train_365', 'train_366', 'train_367', 'train_368', 'train_369', 'train_370', 'train_371', 'train_372', 'train_373', 'train_374', 'train_375', 'train_376', 'train_377', 'train_378', 'train_379', 'train_380', 'train_381', 'train_382', 'train_383', 'train_384', 'train_385', 'train_386', 'train_387', 'train_388', 'train_389', 'train_390', 'train_391', 'train_392', 'train_393', 'train_394', 'train_395', 'train_396', 'train_397', 'train_398', 'train_399', 'train_400', 'train_401', 'train_402', 'train_403', 'train_404', 'train_405', 'train_406', 'train_407', 'train_408', 'train_409', 'train_410', 'train_411', 'train_412', 'train_413', 'train_414', 'train_415', 'train_416', 'train_417', 'train_418', 'train_419', 'train_420', 'train_421', 'train_422', 'train_423', 'train_424', 'train_425', 'train_426', 'train_427', 'train_428', 'train_429', 'train_430', 'train_431', 'train_432', 'train_433', 'train_434', 'train_435', 'train_436', 'train_437', 'train_438', 'train_439', 'train_440', 'train_441', 'train_442', 'train_443', 'train_444', 'train_445', 'train_446', 'train_447', 'train_448', 'train_449', 'train_450', 'train_451', 'train_452', 'train_453', 'train_454', 'train_455', 'train_456', 'train_457', 'train_458', 'train_459', 'train_460', 'train_461', 'train_462', 'train_463', 'train_464', 'train_465', 'train_466', 'train_467', 'train_468', 'train_469', 'train_470', 'train_471', 'train_472', 'train_473', 'train_474', 'train_475', 'train_476', 'train_477', 'train_478', 'train_479', 'train_480', 'train_481', 'train_482', 'train_483', 'train_484', 'train_485', 'train_486', 'train_487', 'train_488', 'train_489', 'train_490', 'train_491', 'train_492', 'train_493', 'train_494', 'train_495', 'train_496', 'train_497', 'train_498', 'train_499', 'train_500', 'train_501', 'train_502', 'train_503', 'train_504', 'train_505', 'train_506', 'train_507', 'train_508', 'train_509', 'train_510', 'train_511', 'train_512', 'train_513', 'train_514', 'train_515', 'train_516', 'train_517', 'train_518', 'train_519', 'train_520', 'train_521', 'train_522', 'train_523', 'train_524', 'train_525', 'train_526', 'train_527', 'train_528', 'train_529', 'train_530', 'train_531', 'train_532', 'train_533', 'train_534', 'train_535', 'train_536', 'train_537', 'train_538', 'train_539', 'train_540', 'train_541', 'train_542', 'train_543', 'train_544', 'train_545', 'train_546', 'train_547', 'train_548', 'train_549', 'train_550', 'train_551', 'train_552', 'train_553', 'train_554', 'train_555', 'train_556', 'train_557', 'train_558', 'train_559', 'train_560', 'train_561', 'train_562', 'train_563', 'train_564', 'train_565', 'train_566', 'train_567', 'train_568', 'train_569', 'train_570', 'train_571', 'train_572', 'train_573', 'train_574', 'train_575', 'train_576', 'train_577', 'train_578', 'train_579', 'train_580', 'train_581', 'train_582', 'train_583', 'train_584', 'train_585', 'train_586', 'train_587', 'train_588', 'train_589', 'train_590', 'train_591', 'train_592', 'train_593', 'train_594', 'train_595', 'train_596', 'train_597', 'train_598', 'train_599', 'train_600', 'train_601', 'train_602', 'train_603', 'train_604', 'train_605', 'train_606', 'train_607', 'train_608', 'train_609', 'train_610', 'train_611', 'train_612', 'train_613', 'train_614', 'train_615', 'train_616', 'train_617', 'train_618', 'train_619', 'train_620', 'train_621', 'train_622', 'train_623', 'train_624', 'train_625', 'train_626', 'train_627', 'train_628', 'train_629', 'train_630', 'train_631', 'train_632', 'train_633', 'train_634', 'train_635', 'train_636', 'train_637', 'train_638', 'train_639', 'train_640', 'train_641', 'train_642', 'train_643', 'train_644', 'train_645', 'train_646', 'train_647', 'train_648', 'train_649', 'train_650', 'train_651', 'train_652', 'train_653', 'train_654', 'train_655', 'train_656', 'train_657', 'train_658', 'train_659', 'train_660', 'train_661', 'train_662', 'train_663', 'train_664', 'train_665', 'train_666', 'train_667', 'train_668', 'train_669', 'train_670', 'train_671', 'train_672', 'train_673', 'train_674', 'train_675', 'train_676', 'train_677', 'train_678', 'train_679', 'train_680', 'train_681', 'train_682', 'train_683', 'train_684', 'train_685', 'train_686', 'train_687', 'train_688', 'train_689', 'train_690', 'train_691', 'train_692', 'train_693', 'train_694', 'train_695', 'train_696', 'train_697', 'train_698', 'train_699', 'train_700', 'train_701', 'train_702', 'train_703', 'train_704', 'train_705', 'train_706', 'train_707', 'train_708', 'train_709', 'train_710', 'train_711', 'train_712', 'train_713', 'train_714', 'train_715', 'train_716', 'train_717', 'train_718', 'train_719', 'train_720', 'train_721', 'train_722', 'train_723', 'train_724', 'train_725', 'train_726', 'train_727', 'train_728', 'train_729', 'train_730', 'train_731', 'train_732', 'train_733', 'train_734', 'train_735', 'train_736', 'train_737', 'train_738', 'train_739', 'train_740', 'train_741', 'train_742', 'train_743', 'train_744', 'train_745', 'train_746', 'train_747', 'train_748', 'train_749', 'train_750', 'train_751', 'train_752', 'train_753', 'train_754', 'train_755', 'train_756', 'train_757', 'train_758', 'train_759', 'train_760', 'train_761', 'train_762', 'train_763', 'train_764', 'train_765', 'train_766', 'train_767', 'train_768', 'train_769', 'train_770', 'train_771', 'train_772', 'train_773', 'train_774', 'train_775', 'train_776', 'train_777', 'train_778', 'train_779', 'train_780', 'train_781', 'train_782', 'train_783', 'train_784', 'train_785', 'train_786', 'train_787', 'train_788', 'train_789', 'train_790', 'train_791', 'train_792', 'train_793', 'train_794', 'train_795', 'train_796', 'train_797', 'train_798', 'train_799', 'train_800', 'train_801', 'train_802', 'train_803', 'train_804', 'train_805', 'train_806', 'train_807', 'train_808', 'train_809', 'train_810', 'train_811', 'train_812', 'train_813', 'train_814', 'train_815', 'train_816', 'train_817', 'train_818', 'train_819', 'train_820', 'train_821', 'train_822', 'train_823', 'train_824', 'train_825', 'train_826', 'train_827', 'train_828', 'train_829', 'train_830', 'train_831', 'train_832', 'train_833', 'train_834', 'train_835', 'train_836', 'train_837', 'train_838', 'train_839', 'train_840', 'train_841', 'train_842', 'train_843', 'train_844', 'train_845', 'train_846', 'train_847', 'train_848', 'train_849', 'train_850', 'train_851', 'train_852', 'train_853', 'train_854', 'train_855', 'train_856', 'train_857', 'train_858', 'train_859', 'train_860', 'train_861', 'train_862', 'train_863', 'train_864', 'train_865', 'train_866', 'train_867', 'train_868', 'train_869', 'train_870', 'train_871', 'train_872', 'train_873', 'train_874', 'train_875', 'train_876', 'train_877', 'train_878', 'train_879', 'train_880', 'train_881', 'train_882', 'train_883', 'train_884', 'train_885', 'train_886', 'train_887', 'train_888', 'train_889', 'train_890', 'train_891', 'train_892', 'train_893', 'train_894', 'train_895', 'train_896', 'train_897', 'train_898', 'train_899', 'train_900', 'train_901', 'train_902', 'train_903', 'train_904', 'train_905', 'train_906', 'train_907', 'train_908', 'train_909', 'train_910', 'train_911', 'train_912', 'train_913', 'train_914', 'train_915', 'train_916', 'train_917', 'train_918', 'train_919', 'train_920', 'train_921', 'train_922', 'train_923', 'train_924', 'train_925', 'train_926', 'train_927', 'train_928', 'train_929', 'train_930', 'train_931', 'train_932', 'train_933', 'train_934', 'train_935', 'train_936', 'train_937', 'train_938', 'train_939', 'train_940', 'train_941', 'train_942', 'train_943', 'train_944', 'train_945', 'train_946', 'train_947', 'train_948', 'train_949', 'train_950', 'train_951', 'train_952', 'train_953', 'train_954', 'train_955', 'train_956', 'train_957', 'train_958', 'train_959', 'train_960', 'train_961', 'train_962', 'train_963', 'train_964', 'train_965', 'train_966', 'train_967', 'train_968', 'train_969', 'train_970', 'train_971', 'train_972', 'train_973', 'train_974', 'train_975', 'train_976', 'train_977', 'train_978', 'train_979', 'train_980', 'train_981', 'train_982', 'train_983', 'train_984', 'train_985', 'train_986', 'train_987', 'train_988', 'train_989', 'train_990', 'train_991', 'train_992', 'train_993', 'train_994', 'train_995', 'train_996', 'train_997', 'train_998', 'train_999', 'train_1000', 'train_1001', 'train_1002', 'train_1003', 'train_1004', 'train_1005', 'train_1006', 'train_1007', 'train_1008', 'train_1009', 'train_1010', 'train_1011', 'train_1012', 'train_1013', 'train_1014', 'train_1015', 'train_1016', 'train_1017', 'train_1018', 'train_1019', 'train_1020', 'train_1021', 'train_1022', 'train_1023', 'train_1024', 'train_1025', 'train_1026', 'train_1027', 'train_1028', 'train_1029', 'train_1030', 'train_1031', 'train_1032', 'train_1033', 'train_1034', 'train_1035', 'train_1036', 'train_1037', 'train_1038', 'train_1039', 'train_1040', 'train_1041', 'train_1042', 'train_1043', 'train_1044', 'train_1045', 'train_1046', 'train_1047', 'train_1048', 'train_1049', 'train_1050', 'train_1051', 'train_1052', 'train_1053', 'train_1054', 'train_1055', 'train_1056', 'train_1057', 'train_1058', 'train_1059', 'train_1060', 'train_1061', 'train_1062', 'train_1063', 'train_1064', 'train_1065', 'train_1066', 'train_1067', 'train_1068', 'train_1069', 'train_1070', 'train_1071', 'train_1072', 'train_1073', 'train_1074', 'train_1075', 'train_1076', 'train_1077', 'train_1078', 'train_1079', 'train_1080', 'train_1081', 'train_1082', 'train_1083', 'train_1084', 'train_1085', 'train_1086', 'train_1087', 'train_1088', 'train_1089', 'train_1090', 'train_1091', 'train_1092', 'train_1093', 'train_1094', 'train_1095', 'train_1096', 'train_1097', 'train_1098', 'train_1099', 'train_1100', 'train_1101', 'train_1102', 'train_1103', 'train_1104', 'train_1105', 'train_1106', 'train_1107', 'train_1108', 'train_1109', 'train_1110', 'train_1111', 'train_1112', 'train_1113', 'train_1114', 'train_1115', 'train_1116', 'train_1117', 'train_1118', 'train_1119', 'train_1120', 'train_1121', 'train_1122', 'train_1123', 'train_1124', 'train_1125', 'train_1126', 'train_1127', 'train_1128', 'train_1129', 'train_1130', 'train_1131', 'train_1132', 'train_1133', 'train_1134', 'train_1135', 'train_1136', 'train_1137', 'train_1138', 'train_1139', 'train_1140', 'train_1141', 'train_1142', 'train_1143', 'train_1144', 'train_1145', 'train_1146', 'train_1147', 'train_1148', 'train_1149', 'train_1150', 'train_1151', 'train_1152', 'train_1153', 'train_1154', 'train_1155', 'train_1156', 'train_1157', 'train_1158', 'train_1159', 'train_1160', 'train_1161', 'train_1162', 'train_1163', 'train_1164', 'train_1165', 'train_1166', 'train_1167', 'train_1168', 'train_1169', 'train_1170', 'train_1171', 'train_1172', 'train_1173', 'train_1174', 'train_1175', 'train_1176', 'train_1177', 'train_1178', 'train_1179', 'train_1180', 'train_1181', 'train_1182', 'train_1183', 'train_1184', 'train_1185', 'train_1186', 'train_1187', 'train_1188', 'train_1189', 'train_1190', 'train_1191', 'train_1192', 'train_1193', 'train_1194', 'train_1195', 'train_1196', 'train_1197', 'train_1198', 'train_1199', 'train_1200', 'train_1201', 'train_1202', 'train_1203', 'train_1204', 'train_1205', 'train_1206', 'train_1207', 'train_1208', 'train_1209', 'train_1210', 'train_1211', 'train_1212', 'train_1213', 'train_1214', 'train_1215', 'train_1216', 'train_1217', 'train_1218', 'train_1219', 'train_1220', 'train_1221', 'train_1222', 'train_1223', 'train_1224', 'train_1225', 'train_1226', 'train_1227', 'train_1228', 'train_1229', 'train_1230', 'train_1231', 'train_1232', 'train_1233', 'train_1234', 'train_1235', 'train_1236', 'train_1237', 'train_1238', 'train_1239', 'train_1240', 'train_1241', 'train_1242', 'train_1243', 'train_1244', 'train_1245', 'train_1246', 'train_1247', 'train_1248', 'train_1249', 'train_1250', 'train_1251', 'train_1252', 'train_1253', 'train_1254', 'train_1255', 'train_1256', 'train_1257', 'train_1258', 'train_1259', 'train_1260', 'train_1261', 'train_1262', 'train_1263', 'train_1264', 'train_1265', 'train_1266', 'train_1267', 'train_1268', 'train_1269', 'train_1270', 'train_1271', 'train_1272', 'train_1273', 'train_1274', 'train_1275', 'train_1276', 'train_1277', 'train_1278', 'train_1279', 'train_1280', 'train_1281', 'train_1282', 'train_1283', 'train_1284', 'train_1285', 'train_1286', 'train_1287', 'train_1288', 'train_1289', 'train_1290', 'train_1291', 'train_1292', 'train_1293', 'train_1294', 'train_1295', 'train_1296', 'train_1297', 'train_1298', 'train_1299', 'train_1300', 'train_1301', 'train_1302', 'train_1303', 'train_1304', 'train_1305', 'train_1306', 'train_1307', 'train_1308', 'train_1309', 'train_1310', 'train_1311', 'train_1312', 'train_1313', 'train_1314', 'train_1315', 'train_1316', 'train_1317', 'train_1318', 'train_1319', 'train_1320', 'train_1321', 'train_1322', 'train_1323', 'train_1324', 'train_1325', 'train_1326', 'train_1327', 'train_1328', 'train_1329', 'train_1330', 'train_1331', 'train_1332', 'train_1333', 'train_1334', 'train_1335', 'train_1336', 'train_1337', 'train_1338', 'train_1339', 'train_1340', 'train_1341', 'train_1342', 'train_1343', 'train_1344', 'train_1345', 'train_1346', 'train_1347', 'train_1348', 'train_1349', 'train_1350', 'train_1351', 'train_1352', 'train_1353', 'train_1354', 'train_1355', 'train_1356', 'train_1357', 'train_1358', 'train_1359', 'train_1360', 'train_1361', 'train_1362', 'train_1363', 'train_1364', 'train_1365', 'train_1366', 'train_1367', 'train_1368', 'train_1369', 'train_1370', 'train_1371', 'train_1372', 'train_1373', 'train_1374', 'train_1375', 'train_1376', 'train_1377', 'train_1378', 'train_1379', 'train_1380', 'train_1381', 'train_1382', 'train_1383', 'train_1384', 'train_1385', 'train_1386', 'train_1387', 'train_1388', 'train_1389', 'train_1390', 'train_1391', 'train_1392', 'train_1393', 'train_1394', 'train_1395', 'train_1396', 'train_1397', 'train_1398', 'train_1399', 'train_1400', 'train_1401', 'train_1402', 'train_1403', 'train_1404', 'train_1405', 'train_1406', 'train_1407', 'train_1408', 'train_1409', 'train_1410', 'train_1411', 'train_1412', 'train_1413', 'train_1414', 'train_1415', 'train_1416', 'train_1417', 'train_1418', 'train_1419', 'train_1420', 'train_1421', 'train_1422', 'train_1423', 'train_1424', 'train_1425', 'train_1426', 'train_1427', 'train_1428', 'train_1429', 'train_1430', 'train_1431', 'train_1432', 'train_1433', 'train_1434', 'train_1435', 'train_1436', 'train_1437', 'train_1438', 'train_1439', 'train_1440', 'train_1441', 'train_1442', 'train_1443', 'train_1444', 'train_1445', 'train_1446', 'train_1447', 'train_1448', 'train_1449', 'train_1450', 'train_1451', 'train_1452', 'train_1453', 'train_1454', 'train_1455', 'train_1456', 'train_1457', 'train_1458', 'train_1459', 'train_1460', 'train_1461', 'train_1462', 'train_1463', 'train_1464', 'train_1465', 'train_1466', 'train_1467', 'train_1468', 'train_1469', 'train_1470', 'train_1471', 'train_1472', 'train_1473', 'train_1474', 'train_1475', 'train_1476', 'train_1477', 'train_1478', 'train_1479', 'train_1480', 'train_1481', 'train_1482', 'train_1483', 'train_1484', 'train_1485', 'train_1486', 'train_1487', 'train_1488', 'train_1489', 'train_1490', 'train_1491', 'train_1492', 'train_1493', 'train_1494', 'train_1495', 'train_1496', 'train_1497', 'train_1498', 'train_1499', 'train_1500', 'train_1501', 'train_1502', 'train_1503', 'train_1504', 'train_1505', 'train_1506', 'train_1507', 'train_1508', 'train_1509', 'train_1510', 'train_1511', 'train_1512', 'train_1513', 'train_1514', 'train_1515', 'train_1516', 'train_1517', 'train_1518', 'train_1519', 'train_1520', 'train_1521', 'train_1522', 'train_1523', 'train_1524', 'train_1525', 'train_1526', 'train_1527', 'train_1528', 'train_1529', 'train_1530', 'train_1531', 'train_1532', 'train_1533', 'train_1534', 'train_1535', 'train_1536', 'train_1537', 'train_1538', 'train_1539', 'train_1540', 'train_1541', 'train_1542', 'train_1543', 'train_1544', 'train_1545', 'train_1546', 'train_1547', 'train_1548', 'train_1549', 'train_1550', 'train_1551', 'train_1552', 'train_1553', 'train_1554', 'train_1555', 'train_1556', 'train_1557', 'train_1558', 'train_1559', 'train_1560', 'train_1561', 'train_1562', 'train_1563', 'train_1564', 'train_1565', 'train_1566', 'train_1567', 'train_1568', 'train_1569', 'train_1570', 'train_1571', 'train_1572', 'train_1573', 'train_1574', 'train_1575', 'train_1576', 'train_1577', 'train_1578', 'train_1579', 'train_1580', 'train_1581', 'train_1582', 'train_1583', 'train_1584', 'train_1585', 'train_1586', 'train_1587', 'train_1588', 'train_1589', 'train_1590', 'train_1591', 'train_1592', 'train_1593', 'train_1594', 'train_1595', 'train_1596', 'train_1597', 'train_1598', 'train_1599', 'train_1600', 'train_1601', 'train_1602', 'train_1603', 'train_1604', 'train_1605', 'train_1606', 'train_1607', 'train_1608', 'train_1609', 'train_1610', 'train_1611', 'train_1612', 'train_1613', 'train_1614', 'train_1615', 'train_1616', 'train_1617', 'train_1618', 'train_1619', 'train_1620', 'train_1621', 'train_1622', 'train_1623', 'train_1624', 'train_1625', 'train_1626', 'train_1627', 'train_1628', 'train_1629', 'train_1630', 'train_1631', 'train_1632', 'train_1633', 'train_1634', 'train_1635', 'train_1636', 'train_1637', 'train_1638', 'train_1639', 'train_1640', 'train_1641', 'train_1642', 'train_1643', 'train_1644', 'train_1645', 'train_1646', 'train_1647', 'train_1648', 'train_1649', 'train_1650', 'train_1651', 'train_1652', 'train_1653', 'train_1654', 'train_1655', 'train_1656', 'train_1657', 'train_1658', 'train_1659', 'train_1660', 'train_1661', 'train_1662', 'train_1663', 'train_1664', 'train_1665', 'train_1666', 'train_1667', 'train_1668', 'train_1669', 'train_1670', 'train_1671', 'train_1672', 'train_1673', 'train_1674', 'train_1675', 'train_1676', 'train_1677', 'train_1678', 'train_1679', 'train_1680', 'train_1681', 'train_1682', 'train_1683', 'train_1684', 'train_1685', 'train_1686', 'train_1687', 'train_1688', 'train_1689', 'train_1690', 'train_1691', 'train_1692', 'train_1693', 'train_1694', 'train_1695', 'train_1696', 'train_1697', 'train_1698', 'train_1699', 'train_1700', 'train_1701', 'train_1702', 'train_1703', 'train_1704', 'train_1705', 'train_1706', 'train_1707', 'train_1708', 'train_1709', 'train_1710', 'train_1711', 'train_1712', 'train_1713', 'train_1714', 'train_1715', 'train_1716', 'train_1717', 'train_1718', 'train_1719', 'train_1720', 'train_1721', 'train_1722', 'train_1723', 'train_1724', 'train_1725', 'train_1726', 'train_1727', 'train_1728', 'train_1729', 'train_1730', 'train_1731', 'train_1732', 'train_1733', 'train_1734', 'train_1735', 'train_1736', 'train_1737', 'train_1738', 'train_1739', 'train_1740', 'train_1741', 'train_1742', 'train_1743', 'train_1744', 'train_1745', 'train_1746', 'train_1747', 'train_1748', 'train_1749', 'train_1750', 'train_1751', 'train_1752', 'train_1753', 'train_1754', 'train_1755', 'train_1756', 'train_1757', 'train_1758', 'train_1759', 'train_1760', 'train_1761', 'train_1762', 'train_1763', 'train_1764', 'train_1765', 'train_1766', 'train_1767', 'train_1768', 'train_1769', 'train_1770', 'train_1771', 'train_1772', 'train_1773', 'train_1774', 'train_1775', 'train_1776', 'train_1777', 'train_1778', 'train_1779', 'train_1780', 'train_1781', 'train_1782', 'train_1783', 'train_1784', 'train_1785', 'train_1786', 'train_1787', 'train_1788', 'train_1789', 'train_1790', 'train_1791', 'train_1792', 'train_1793', 'train_1794', 'train_1795', 'train_1796', 'train_1797', 'train_1798', 'train_1799', 'train_1800', 'train_1801', 'train_1802', 'train_1803', 'train_1804', 'train_1805', 'train_1806', 'train_1807', 'train_1808', 'train_1809', 'train_1810', 'train_1811', 'train_1812', 'train_1813', 'train_1814', 'train_1815', 'train_1816', 'train_1817', 'train_1818', 'train_1819', 'train_1820', 'train_1821', 'train_1822', 'train_1823', 'train_1824', 'train_1825', 'train_1826', 'train_1827', 'train_1828', 'train_1829', 'train_1830', 'train_1831', 'train_1832', 'train_1833', 'train_1834', 'train_1835', 'train_1836', 'train_1837', 'train_1838', 'train_1839', 'train_1840', 'train_1841', 'train_1842', 'train_1843', 'train_1844', 'train_1845', 'train_1846', 'train_1847', 'train_1848', 'train_1849', 'train_1850', 'train_1851', 'train_1852', 'train_1853', 'train_1854', 'train_1855', 'train_1856', 'train_1857', 'train_1858', 'train_1859', 'train_1860', 'train_1861', 'train_1862', 'train_1863', 'train_1864', 'train_1865', 'train_1866', 'train_1867', 'train_1868', 'train_1869', 'train_1870', 'train_1871', 'train_1872', 'train_1873', 'train_1874', 'train_1875', 'train_1876', 'train_1877', 'train_1878', 'train_1879', 'train_1880', 'train_1881', 'train_1882', 'train_1883', 'train_1884', 'train_1885', 'train_1886', 'train_1887', 'train_1888', 'train_1889', 'train_1890', 'train_1891', 'train_1892', 'train_1893', 'train_1894', 'train_1895', 'train_1896', 'train_1897', 'train_1898', 'train_1899', 'train_1900', 'train_1901', 'train_1902', 'train_1903', 'train_1904', 'train_1905', 'train_1906', 'train_1907', 'train_1908', 'train_1909', 'train_1910', 'train_1911', 'train_1912', 'train_1913', 'train_1914', 'train_1915', 'train_1916', 'train_1917', 'train_1918', 'train_1919', 'train_1920', 'train_1921', 'train_1922', 'train_1923', 'train_1924', 'train_1925', 'train_1926', 'train_1927', 'train_1928', 'train_1929', 'train_1930', 'train_1931', 'train_1932', 'train_1933', 'train_1934', 'train_1935', 'train_1936', 'train_1937', 'train_1938', 'train_1939', 'train_1940', 'train_1941', 'train_1942', 'train_1943', 'train_1944', 'train_1945', 'train_1946', 'train_1947', 'train_1948', 'train_1949', 'train_1950', 'train_1951', 'train_1952', 'train_1953', 'train_1954', 'train_1955', 'train_1956', 'train_1957', 'train_1958', 'train_1959', 'train_1960', 'train_1961', 'train_1962', 'train_1963', 'train_1964', 'train_1965', 'train_1966', 'train_1967', 'train_1968', 'train_1969', 'train_1970', 'train_1971', 'train_1972', 'train_1973', 'train_1974', 'train_1975', 'train_1976', 'train_1977', 'train_1978', 'train_1979', 'train_1980', 'train_1981', 'train_1982', 'train_1983', 'train_1984', 'train_1985', 'train_1986', 'train_1987', 'train_1988', 'train_1989', 'train_1990', 'train_1991', 'train_1992', 'train_1993', 'train_1994', 'train_1995', 'train_1996', 'train_1997', 'train_1998', 'train_1999', 'train_2000', 'train_2001', 'train_2002', 'train_2003', 'train_2004', 'train_2005', 'train_2006', 'train_2007', 'train_2008', 'train_2009', 'train_2010', 'train_2011', 'train_2012', 'train_2013', 'train_2014', 'train_2015', 'train_2016', 'train_2017', 'train_2018', 'train_2019', 'train_2020', 'train_2021', 'train_2022', 'train_2023', 'train_2024', 'train_2025', 'train_2026', 'train_2027', 'train_2028', 'train_2029', 'train_2030', 'train_2031', 'train_2032', 'train_2033', 'train_2034', 'train_2035', 'train_2036', 'train_2037', 'train_2038', 'train_2039', 'train_2040', 'train_2041', 'train_2042', 'train_2043', 'train_2044', 'train_2045', 'train_2046', 'train_2047', 'train_2048', 'train_2049', 'train_2050', 'train_2051', 'train_2052', 'train_2053', 'train_2054', 'train_2055', 'train_2056', 'train_2057', 'train_2058', 'train_2059', 'train_2060', 'train_2061', 'train_2062', 'train_2063', 'train_2064', 'train_2065', 'train_2066', 'train_2067', 'test_0', 'test_1', 'test_2', 'test_3', 'test_4', 'test_5', 'test_6', 'test_7', 'test_8', 'test_9', 'test_10', 'test_11', 'test_12', 'test_13', 'test_14', 'test_15', 'test_16', 'test_17', 'test_18', 'test_19', 'test_20', 'test_21', 'test_22', 'test_23', 'test_24', 'test_25', 'test_26', 'test_27', 'test_28', 'test_29', 'test_30', 'test_31', 'test_32', 'test_33', 'test_34', 'test_35', 'test_36', 'test_37', 'test_38', 'test_39', 'test_40', 'test_41', 'test_42', 'test_43', 'test_44', 'test_45', 'test_46', 'test_47', 'test_48', 'test_49', 'test_50', 'test_51', 'test_52', 'test_53', 'test_54', 'test_55', 'test_56', 'test_57', 'test_58', 'test_59', 'test_60', 'test_61', 'test_62', 'test_63', 'test_64', 'test_65', 'test_66', 'test_67', 'test_68', 'test_69', 'test_70', 'test_71', 'test_72', 'test_73', 'test_74', 'test_75', 'test_76', 'test_77', 'test_78', 'test_79', 'test_80', 'test_81', 'test_82', 'test_83', 'test_84', 'test_85', 'test_86', 'test_87', 'test_88', 'test_89', 'test_90', 'test_91', 'test_92', 'test_93', 'test_94', 'test_95', 'test_96', 'test_97', 'test_98', 'test_99', 'test_100', 'test_101', 'test_102', 'test_103', 'test_104', 'test_105', 'test_106', 'test_107', 'test_108', 'test_109', 'test_110', 'test_111', 'test_112', 'test_113', 'test_114', 'test_115', 'test_116', 'test_117', 'test_118', 'test_119', 'test_120', 'test_121', 'test_122', 'test_123', 'test_124', 'test_125', 'test_126', 'test_127', 'test_128', 'test_129', 'test_130', 'test_131', 'test_132', 'test_133', 'test_134', 'test_135', 'test_136', 'test_137', 'test_138', 'test_139', 'test_140', 'test_141', 'test_142', 'test_143', 'test_144', 'test_145', 'test_146', 'test_147', 'test_148', 'test_149', 'test_150', 'test_151', 'test_152', 'test_153', 'test_154', 'test_155', 'test_156', 'test_157', 'test_158', 'test_159', 'test_160', 'test_161', 'test_162', 'test_163', 'test_164', 'test_165', 'test_166', 'test_167', 'test_168', 'test_169', 'test_170', 'test_171', 'test_172', 'test_173', 'test_174', 'test_175', 'test_176', 'test_177', 'test_178', 'test_179', 'test_180', 'test_181', 'test_182', 'test_183', 'test_184', 'test_185', 'test_186', 'test_187', 'test_188', 'test_189', 'test_190', 'test_191', 'test_192', 'test_193', 'test_194', 'test_195', 'test_196', 'test_197', 'test_198', 'test_199', 'test_200', 'test_201', 'test_202', 'test_203', 'test_204', 'test_205', 'test_206', 'test_207', 'test_208', 'test_209', 'test_210', 'test_211', 'test_212', 'test_213', 'test_214', 'test_215', 'test_216', 'test_217', 'test_218', 'test_219', 'test_220', 'test_221', 'test_222', 'test_223', 'test_224', 'test_225', 'test_226', 'test_227', 'test_228', 'test_229', 'test_230', 'test_231', 'test_232', 'test_233', 'test_234', 'test_235', 'test_236', 'test_237', 'test_238', 'test_239', 'test_240', 'test_241', 'test_242', 'test_243', 'test_244', 'test_245', 'test_246', 'test_247', 'test_248', 'test_249', 'test_250', 'test_251', 'test_252', 'test_253', 'test_254', 'test_255', 'test_256', 'test_257', 'test_258', 'test_259', 'test_260', 'test_261', 'test_262', 'test_263', 'test_264', 'test_265', 'test_266', 'test_267', 'test_268', 'test_269', 'test_270', 'test_271', 'test_272', 'test_273', 'test_274', 'test_275', 'test_276', 'test_277', 'test_278', 'test_279', 'test_280', 'test_281', 'test_282', 'test_283', 'test_284', 'test_285', 'test_286', 'test_287', 'test_288', 'test_289', 'test_290', 'test_291', 'test_292', 'test_293', 'test_294', 'test_295', 'test_296', 'test_297', 'test_298', 'test_299', 'test_300', 'test_301', 'test_302', 'test_303', 'test_304', 'test_305', 'test_306', 'test_307', 'test_308', 'test_309', 'test_310', 'test_311', 'test_312', 'test_313', 'test_314', 'test_315', 'test_316', 'test_317', 'test_318', 'test_319', 'test_320', 'test_321', 'test_322', 'test_323', 'test_324', 'test_325', 'test_326', 'test_327', 'test_328', 'test_329', 'test_330', 'test_331', 'test_332', 'test_333', 'test_334', 'test_335', 'test_336', 'test_337', 'test_338', 'test_339', 'test_340', 'test_341', 'test_342', 'test_343', 'test_344', 'test_345', 'test_346', 'test_347', 'test_348', 'test_349', 'test_350', 'test_351', 'test_352', 'test_353', 'test_354', 'test_355', 'test_356', 'test_357', 'test_358', 'test_359', 'test_360', 'test_361', 'test_362', 'test_363', 'test_364', 'test_365', 'test_366', 'test_367', 'test_368', 'test_369', 'test_370', 'test_371', 'test_372', 'test_373', 'test_374', 'test_375', 'test_376', 'test_377', 'test_378', 'test_379', 'test_380', 'test_381', 'test_382', 'test_383', 'test_384', 'test_385', 'test_386', 'test_387', 'test_388', 'test_389', 'test_390', 'test_391', 'test_392', 'test_393', 'test_394', 'test_395', 'test_396', 'test_397', 'test_398', 'test_399', 'test_400', 'test_401', 'test_402', 'test_403', 'test_404', 'test_405', 'test_406', 'test_407', 'test_408', 'test_409', 'test_410', 'test_411', 'test_412', 'test_413', 'test_414', 'test_415', 'test_416', 'test_417', 'test_418', 'test_419', 'test_420', 'test_421', 'test_422', 'test_423', 'test_424', 'test_425', 'test_426', 'test_427', 'test_428', 'test_429', 'test_430', 'test_431', 'test_432', 'test_433', 'test_434', 'test_435', 'test_436', 'test_437', 'test_438', 'test_439', 'test_440', 'test_441', 'test_442', 'cv_0', 'cv_1', 'cv_2', 'cv_3', 'cv_4', 'cv_5', 'cv_6', 'cv_7', 'cv_8', 'cv_9', 'cv_10', 'cv_11', 'cv_12', 'cv_13', 'cv_14', 'cv_15', 'cv_16', 'cv_17', 'cv_18', 'cv_19', 'cv_20', 'cv_21', 'cv_22', 'cv_23', 'cv_24', 'cv_25', 'cv_26', 'cv_27', 'cv_28', 'cv_29', 'cv_30', 'cv_31', 'cv_32', 'cv_33', 'cv_34', 'cv_35', 'cv_36', 'cv_37', 'cv_38', 'cv_39', 'cv_40', 'cv_41', 'cv_42', 'cv_43', 'cv_44', 'cv_45', 'cv_46', 'cv_47', 'cv_48', 'cv_49', 'cv_50', 'cv_51', 'cv_52', 'cv_53', 'cv_54', 'cv_55', 'cv_56', 'cv_57', 'cv_58', 'cv_59', 'cv_60', 'cv_61', 'cv_62', 'cv_63', 'cv_64', 'cv_65', 'cv_66', 'cv_67', 'cv_68', 'cv_69', 'cv_70', 'cv_71', 'cv_72', 'cv_73', 'cv_74', 'cv_75', 'cv_76', 'cv_77', 'cv_78', 'cv_79', 'cv_80', 'cv_81', 'cv_82', 'cv_83', 'cv_84', 'cv_85', 'cv_86', 'cv_87', 'cv_88', 'cv_89', 'cv_90', 'cv_91', 'cv_92', 'cv_93', 'cv_94', 'cv_95', 'cv_96', 'cv_97', 'cv_98', 'cv_99', 'cv_100', 'cv_101', 'cv_102', 'cv_103', 'cv_104', 'cv_105', 'cv_106', 'cv_107', 'cv_108', 'cv_109', 'cv_110', 'cv_111', 'cv_112', 'cv_113', 'cv_114', 'cv_115', 'cv_116', 'cv_117', 'cv_118', 'cv_119', 'cv_120', 'cv_121', 'cv_122', 'cv_123', 'cv_124', 'cv_125', 'cv_126', 'cv_127', 'cv_128', 'cv_129', 'cv_130', 'cv_131', 'cv_132', 'cv_133', 'cv_134', 'cv_135', 'cv_136', 'cv_137', 'cv_138', 'cv_139', 'cv_140', 'cv_141', 'cv_142', 'cv_143', 'cv_144', 'cv_145', 'cv_146', 'cv_147', 'cv_148', 'cv_149', 'cv_150', 'cv_151', 'cv_152', 'cv_153', 'cv_154', 'cv_155', 'cv_156', 'cv_157', 'cv_158', 'cv_159', 'cv_160', 'cv_161', 'cv_162', 'cv_163', 'cv_164', 'cv_165', 'cv_166', 'cv_167', 'cv_168', 'cv_169', 'cv_170', 'cv_171', 'cv_172', 'cv_173', 'cv_174', 'cv_175', 'cv_176', 'cv_177', 'cv_178', 'cv_179', 'cv_180', 'cv_181', 'cv_182', 'cv_183', 'cv_184', 'cv_185', 'cv_186', 'cv_187', 'cv_188', 'cv_189', 'cv_190', 'cv_191', 'cv_192', 'cv_193', 'cv_194', 'cv_195', 'cv_196', 'cv_197', 'cv_198', 'cv_199', 'cv_200', 'cv_201', 'cv_202', 'cv_203', 'cv_204', 'cv_205', 'cv_206', 'cv_207', 'cv_208', 'cv_209', 'cv_210', 'cv_211', 'cv_212', 'cv_213', 'cv_214', 'cv_215', 'cv_216', 'cv_217', 'cv_218', 'cv_219', 'cv_220', 'cv_221', 'cv_222', 'cv_223', 'cv_224', 'cv_225', 'cv_226', 'cv_227', 'cv_228', 'cv_229', 'cv_230', 'cv_231', 'cv_232', 'cv_233', 'cv_234', 'cv_235', 'cv_236', 'cv_237', 'cv_238', 'cv_239', 'cv_240', 'cv_241', 'cv_242', 'cv_243', 'cv_244', 'cv_245', 'cv_246', 'cv_247', 'cv_248', 'cv_249', 'cv_250', 'cv_251', 'cv_252', 'cv_253', 'cv_254', 'cv_255', 'cv_256', 'cv_257', 'cv_258', 'cv_259', 'cv_260', 'cv_261', 'cv_262', 'cv_263', 'cv_264', 'cv_265', 'cv_266', 'cv_267', 'cv_268', 'cv_269', 'cv_270', 'cv_271', 'cv_272', 'cv_273', 'cv_274', 'cv_275', 'cv_276', 'cv_277', 'cv_278', 'cv_279', 'cv_280', 'cv_281', 'cv_282', 'cv_283', 'cv_284', 'cv_285', 'cv_286', 'cv_287', 'cv_288', 'cv_289', 'cv_290', 'cv_291', 'cv_292', 'cv_293', 'cv_294', 'cv_295', 'cv_296', 'cv_297', 'cv_298', 'cv_299', 'cv_300', 'cv_301', 'cv_302', 'cv_303', 'cv_304', 'cv_305', 'cv_306', 'cv_307', 'cv_308', 'cv_309', 'cv_310', 'cv_311', 'cv_312', 'cv_313', 'cv_314', 'cv_315', 'cv_316', 'cv_317', 'cv_318', 'cv_319', 'cv_320', 'cv_321', 'cv_322', 'cv_323', 'cv_324', 'cv_325', 'cv_326', 'cv_327', 'cv_328', 'cv_329', 'cv_330', 'cv_331', 'cv_332', 'cv_333', 'cv_334', 'cv_335', 'cv_336', 'cv_337', 'cv_338', 'cv_339', 'cv_340', 'cv_341', 'cv_342', 'cv_343', 'cv_344', 'cv_345', 'cv_346', 'cv_347', 'cv_348', 'cv_349', 'cv_350', 'cv_351', 'cv_352', 'cv_353', 'cv_354', 'cv_355', 'cv_356', 'cv_357', 'cv_358', 'cv_359', 'cv_360', 'cv_361', 'cv_362', 'cv_363', 'cv_364', 'cv_365', 'cv_366', 'cv_367', 'cv_368', 'cv_369', 'cv_370', 'cv_371', 'cv_372', 'cv_373', 'cv_374', 'cv_375', 'cv_376', 'cv_377', 'cv_378', 'cv_379', 'cv_380', 'cv_381', 'cv_382', 'cv_383', 'cv_384', 'cv_385', 'cv_386', 'cv_387', 'cv_388', 'cv_389', 'cv_390', 'cv_391', 'cv_392', 'cv_393', 'cv_394', 'cv_395', 'cv_396', 'cv_397', 'cv_398', 'cv_399', 'cv_400', 'cv_401', 'cv_402', 'cv_403', 'cv_404', 'cv_405', 'cv_406', 'cv_407', 'cv_408', 'cv_409', 'cv_410', 'cv_411', 'cv_412', 'cv_413', 'cv_414', 'cv_415', 'cv_416', 'cv_417', 'cv_418', 'cv_419', 'cv_420', 'cv_421', 'cv_422', 'cv_423', 'cv_424', 'cv_425', 'cv_426', 'cv_427', 'cv_428', 'cv_429', 'cv_430', 'cv_431', 'cv_432', 'cv_433', 'cv_434', 'cv_435', 'cv_436', 'cv_437', 'cv_438', 'cv_439', 'cv_440', 'cv_441', 'cv_442', 'cv_443'])"
      ]
     },
     "execution_count": 18,
     "metadata": {},
     "output_type": "execute_result"
    }
   ],
   "source": [
    "Xnet_features_attention.keys()"
   ]
  },
  {
   "cell_type": "code",
   "execution_count": 19,
   "id": "ad13793b",
   "metadata": {},
   "outputs": [],
   "source": [
    "# save the file for future use\n",
    "f = open('Image_features_attention.pickle','wb')\n",
    "pickle.dump(Xnet_features_attention, f)\n",
    "f.close()"
   ]
  },
  {
   "cell_type": "code",
   "execution_count": 20,
   "id": "1ee3b39e",
   "metadata": {},
   "outputs": [
    {
     "data": {
      "text/plain": [
       "2068"
      ]
     },
     "execution_count": 20,
     "metadata": {},
     "output_type": "execute_result"
    }
   ],
   "source": [
    "len(train_dataset)"
   ]
  },
  {
   "cell_type": "code",
   "execution_count": null,
   "id": "0a3e8297",
   "metadata": {},
   "outputs": [],
   "source": [
    "for item in tqdm(train_dataset.values):\n",
    "    print(item)\n",
    "    break"
   ]
  },
  {
   "cell_type": "code",
   "execution_count": null,
   "id": "ad90c9d5",
   "metadata": {},
   "outputs": [],
   "source": [
    "train_dataset.iloc[10:30]"
   ]
  },
  {
   "cell_type": "code",
   "execution_count": null,
   "id": "ab8a7040",
   "metadata": {},
   "outputs": [],
   "source": []
  }
 ],
 "metadata": {
  "kernelspec": {
   "display_name": "Python 3 (ipykernel)",
   "language": "python",
   "name": "python3"
  },
  "language_info": {
   "codemirror_mode": {
    "name": "ipython",
    "version": 3
   },
   "file_extension": ".py",
   "mimetype": "text/x-python",
   "name": "python",
   "nbconvert_exporter": "python",
   "pygments_lexer": "ipython3",
   "version": "3.9.12"
  }
 },
 "nbformat": 4,
 "nbformat_minor": 5
}
