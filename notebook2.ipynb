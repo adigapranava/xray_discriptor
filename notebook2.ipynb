{
 "cells": [
  {
   "cell_type": "markdown",
   "metadata": {
    "cell_id": "b20a74d9a1864efaaf13c1cde49ffccc",
    "deepnote_cell_height": 52.390625,
    "deepnote_cell_type": "markdown",
    "tags": []
   },
   "source": [
    "https://towardsdatascience.com/image-captioning-using-deep-learning-fe0d929cf337\n",
    "\n",
    "\n"
   ]
  },
  {
   "cell_type": "code",
   "execution_count": null,
   "metadata": {
    "cell_id": "5bd495d67f1c4578a328712c9d30fc11",
    "deepnote_cell_height": 719,
    "deepnote_cell_type": "code",
    "deepnote_to_be_reexecuted": false,
    "execution_millis": 17006,
    "execution_start": 1656164306153,
    "source_hash": "8bfb4ed7",
    "tags": []
   },
   "outputs": [],
   "source": [
    "!pip install opencv-python\n",
    "!apt-get update && apt-get install libgl1 -y"
   ]
  },
  {
   "cell_type": "code",
   "execution_count": 1,
   "metadata": {
    "cell_id": "6f197fc5-1f91-4d03-953e-82aeb39050ce",
    "deepnote_cell_height": 369,
    "deepnote_cell_type": "code",
    "deepnote_to_be_reexecuted": false,
    "execution_millis": 1484,
    "execution_start": 1656164323209,
    "source_hash": "2d9dd40f",
    "tags": []
   },
   "outputs": [],
   "source": [
    "import numpy as np\n",
    "import pandas as pd\n",
    "import matplotlib.pyplot as plt\n",
    "import seaborn as sns\n",
    "from tqdm import tqdm\n",
    "import tensorflow as tf\n",
    "import cv2\n",
    "import pickle\n",
    "from tensorflow.keras.preprocessing.text import Tokenizer\n",
    "from tensorflow.keras.preprocessing.sequence import pad_sequences\n",
    "from sklearn.model_selection import train_test_split\n",
    "import time\n",
    "from tensorflow.keras.models import Model\n",
    "from tensorflow.keras.layers import Dense, LSTM, Input, Embedding, Conv2D, Concatenate, Flatten, Add, Dropout, GRU\n",
    "import random\n",
    "import datetime\n",
    "from nltk.translate.bleu_score import sentence_bleu"
   ]
  },
  {
   "cell_type": "code",
   "execution_count": 2,
   "metadata": {},
   "outputs": [],
   "source": [
    "def get_random_set():\n",
    "    obj = reqd[np.random.randint(len(reqd))]\n",
    "    for i in range(len(obj[\"imgs\"])):\n",
    "        plt.subplot(1, len(obj[\"imgs\"]),i+1)\n",
    "        plt.axis('off')\n",
    "        img = plt.imread(get_img_path(obj[\"imgs\"][i]))\n",
    "        plt.imshow(img)\n",
    "    print(obj[\"desc\"])\n",
    "\n",
    "def get_random_set2(df, k):\n",
    "    obj = df[k]\n",
    "    for i in range(len(obj[\"imgs\"])):\n",
    "        plt.subplot(1, len(obj[\"imgs\"]),i+1)\n",
    "        plt.axis('off')\n",
    "        img = plt.imread(get_img_path(obj[\"imgs\"][i]))\n",
    "        plt.imshow(img)\n",
    "    print(obj[\"desc\"])\n",
    "    \n",
    "def get_img_path(x):\n",
    "    return \"./imgs/\"+x+\".png\""
   ]
  },
  {
   "cell_type": "code",
   "execution_count": 3,
   "metadata": {
    "cell_id": "f447d9a6e20245a79b0fd5f58eb86948",
    "deepnote_cell_height": 117,
    "deepnote_cell_type": "code",
    "deepnote_to_be_reexecuted": false,
    "execution_millis": 64,
    "execution_start": 1656164324697,
    "source_hash": "55c93b86",
    "tags": []
   },
   "outputs": [],
   "source": [
    "train_dataset = pd.read_csv('df_train.csv')\n",
    "test_dataset = pd.read_csv('df_test.csv')\n",
    "cv_dataset = pd.read_csv('df_cv.csv')"
   ]
  },
  {
   "cell_type": "code",
   "execution_count": 4,
   "metadata": {
    "cell_id": "ef2f15def2214c6e93a96a18ee7badc3",
    "deepnote_cell_height": 613.4375,
    "deepnote_cell_type": "code",
    "deepnote_to_be_reexecuted": false,
    "execution_millis": 91,
    "execution_start": 1656164334170,
    "source_hash": "b8ae154d",
    "tags": []
   },
   "outputs": [
    {
     "data": {
      "text/html": [
       "<div>\n",
       "<style scoped>\n",
       "    .dataframe tbody tr th:only-of-type {\n",
       "        vertical-align: middle;\n",
       "    }\n",
       "\n",
       "    .dataframe tbody tr th {\n",
       "        vertical-align: top;\n",
       "    }\n",
       "\n",
       "    .dataframe thead th {\n",
       "        text-align: right;\n",
       "    }\n",
       "</style>\n",
       "<table border=\"1\" class=\"dataframe\">\n",
       "  <thead>\n",
       "    <tr style=\"text-align: right;\">\n",
       "      <th></th>\n",
       "      <th>Unnamed: 0</th>\n",
       "      <th>desc</th>\n",
       "      <th>img1</th>\n",
       "      <th>img2</th>\n",
       "      <th>img3</th>\n",
       "      <th>img4</th>\n",
       "      <th>img5</th>\n",
       "    </tr>\n",
       "  </thead>\n",
       "  <tbody>\n",
       "    <tr>\n",
       "      <th>0</th>\n",
       "      <td>0</td>\n",
       "      <td>startseq right upper lobe airspace disease con...</td>\n",
       "      <td>CXR3069_IM-1432-1001</td>\n",
       "      <td>CXR3069_IM-1432-2001</td>\n",
       "      <td>NaN</td>\n",
       "      <td>NaN</td>\n",
       "      <td>NaN</td>\n",
       "    </tr>\n",
       "    <tr>\n",
       "      <th>1</th>\n",
       "      <td>1</td>\n",
       "      <td>startseq mediastinal contours are normal lungs...</td>\n",
       "      <td>CXR2629_IM-1116-1001</td>\n",
       "      <td>CXR2629_IM-1116-2001</td>\n",
       "      <td>NaN</td>\n",
       "      <td>NaN</td>\n",
       "      <td>NaN</td>\n",
       "    </tr>\n",
       "    <tr>\n",
       "      <th>2</th>\n",
       "      <td>2</td>\n",
       "      <td>startseq cardiomediastinal contours are unchan...</td>\n",
       "      <td>CXR1888_IM-0576-1001</td>\n",
       "      <td>CXR1888_IM-0576-4004</td>\n",
       "      <td>NaN</td>\n",
       "      <td>NaN</td>\n",
       "      <td>NaN</td>\n",
       "    </tr>\n",
       "    <tr>\n",
       "      <th>3</th>\n",
       "      <td>3</td>\n",
       "      <td>startseq heart size normal the lungs are clear...</td>\n",
       "      <td>CXR2248_IM-0844-1001</td>\n",
       "      <td>CXR2248_IM-0844-1002</td>\n",
       "      <td>NaN</td>\n",
       "      <td>NaN</td>\n",
       "      <td>NaN</td>\n",
       "    </tr>\n",
       "    <tr>\n",
       "      <th>4</th>\n",
       "      <td>4</td>\n",
       "      <td>startseq the cardiomediastinal contours are wi...</td>\n",
       "      <td>CXR3408_IM-1648-1001</td>\n",
       "      <td>CXR3408_IM-1648-1002</td>\n",
       "      <td>NaN</td>\n",
       "      <td>NaN</td>\n",
       "      <td>NaN</td>\n",
       "    </tr>\n",
       "    <tr>\n",
       "      <th>...</th>\n",
       "      <td>...</td>\n",
       "      <td>...</td>\n",
       "      <td>...</td>\n",
       "      <td>...</td>\n",
       "      <td>...</td>\n",
       "      <td>...</td>\n",
       "      <td>...</td>\n",
       "    </tr>\n",
       "    <tr>\n",
       "      <th>2063</th>\n",
       "      <td>2331</td>\n",
       "      <td>startseq the heart normal size the mediastinum...</td>\n",
       "      <td>CXR2243_IM-0840-1001</td>\n",
       "      <td>CXR2243_IM-0840-2001</td>\n",
       "      <td>CXR2243_IM-0840-3001</td>\n",
       "      <td>CXR2243_IM-0840-4001</td>\n",
       "      <td>NaN</td>\n",
       "    </tr>\n",
       "    <tr>\n",
       "      <th>2064</th>\n",
       "      <td>2332</td>\n",
       "      <td>startseq normal heart size normal mediastinal ...</td>\n",
       "      <td>CXR1356_IM-0231-1001</td>\n",
       "      <td>CXR1356_IM-0231-2001</td>\n",
       "      <td>NaN</td>\n",
       "      <td>NaN</td>\n",
       "      <td>NaN</td>\n",
       "    </tr>\n",
       "    <tr>\n",
       "      <th>2065</th>\n",
       "      <td>2333</td>\n",
       "      <td>startseq frontal and lateral views the chest s...</td>\n",
       "      <td>CXR1883_IM-0572-1001</td>\n",
       "      <td>CXR1883_IM-0572-2001</td>\n",
       "      <td>NaN</td>\n",
       "      <td>NaN</td>\n",
       "      <td>NaN</td>\n",
       "    </tr>\n",
       "    <tr>\n",
       "      <th>2066</th>\n",
       "      <td>2334</td>\n",
       "      <td>startseq normal heart size and mediastinal con...</td>\n",
       "      <td>CXR2622_IM-1110-1001</td>\n",
       "      <td>CXR2622_IM-1110-1002</td>\n",
       "      <td>NaN</td>\n",
       "      <td>NaN</td>\n",
       "      <td>NaN</td>\n",
       "    </tr>\n",
       "    <tr>\n",
       "      <th>2067</th>\n",
       "      <td>2335</td>\n",
       "      <td>startseq there are low lung volumes with bibas...</td>\n",
       "      <td>CXR2185_IM-0795-1001</td>\n",
       "      <td>CXR2185_IM-0795-2001</td>\n",
       "      <td>NaN</td>\n",
       "      <td>NaN</td>\n",
       "      <td>NaN</td>\n",
       "    </tr>\n",
       "  </tbody>\n",
       "</table>\n",
       "<p>2068 rows × 7 columns</p>\n",
       "</div>"
      ],
      "text/plain": [
       "      Unnamed: 0                                               desc  \\\n",
       "0              0  startseq right upper lobe airspace disease con...   \n",
       "1              1  startseq mediastinal contours are normal lungs...   \n",
       "2              2  startseq cardiomediastinal contours are unchan...   \n",
       "3              3  startseq heart size normal the lungs are clear...   \n",
       "4              4  startseq the cardiomediastinal contours are wi...   \n",
       "...          ...                                                ...   \n",
       "2063        2331  startseq the heart normal size the mediastinum...   \n",
       "2064        2332  startseq normal heart size normal mediastinal ...   \n",
       "2065        2333  startseq frontal and lateral views the chest s...   \n",
       "2066        2334  startseq normal heart size and mediastinal con...   \n",
       "2067        2335  startseq there are low lung volumes with bibas...   \n",
       "\n",
       "                      img1                  img2                  img3  \\\n",
       "0     CXR3069_IM-1432-1001  CXR3069_IM-1432-2001                   NaN   \n",
       "1     CXR2629_IM-1116-1001  CXR2629_IM-1116-2001                   NaN   \n",
       "2     CXR1888_IM-0576-1001  CXR1888_IM-0576-4004                   NaN   \n",
       "3     CXR2248_IM-0844-1001  CXR2248_IM-0844-1002                   NaN   \n",
       "4     CXR3408_IM-1648-1001  CXR3408_IM-1648-1002                   NaN   \n",
       "...                    ...                   ...                   ...   \n",
       "2063  CXR2243_IM-0840-1001  CXR2243_IM-0840-2001  CXR2243_IM-0840-3001   \n",
       "2064  CXR1356_IM-0231-1001  CXR1356_IM-0231-2001                   NaN   \n",
       "2065  CXR1883_IM-0572-1001  CXR1883_IM-0572-2001                   NaN   \n",
       "2066  CXR2622_IM-1110-1001  CXR2622_IM-1110-1002                   NaN   \n",
       "2067  CXR2185_IM-0795-1001  CXR2185_IM-0795-2001                   NaN   \n",
       "\n",
       "                      img4 img5  \n",
       "0                      NaN  NaN  \n",
       "1                      NaN  NaN  \n",
       "2                      NaN  NaN  \n",
       "3                      NaN  NaN  \n",
       "4                      NaN  NaN  \n",
       "...                    ...  ...  \n",
       "2063  CXR2243_IM-0840-4001  NaN  \n",
       "2064                   NaN  NaN  \n",
       "2065                   NaN  NaN  \n",
       "2066                   NaN  NaN  \n",
       "2067                   NaN  NaN  \n",
       "\n",
       "[2068 rows x 7 columns]"
      ]
     },
     "execution_count": 4,
     "metadata": {},
     "output_type": "execute_result"
    }
   ],
   "source": [
    "train_dataset"
   ]
  },
  {
   "cell_type": "code",
   "execution_count": 5,
   "metadata": {
    "cell_id": "9b7e3bbb1e8a4c6c9cbfe509d813777b",
    "deepnote_cell_height": 261,
    "deepnote_cell_type": "code",
    "deepnote_to_be_reexecuted": false,
    "execution_start": 1656164435922,
    "source_hash": "4877bcfd",
    "tags": []
   },
   "outputs": [
    {
     "name": "stdout",
     "output_type": "stream",
     "text": [
      "1 Physical GPUs, 1 Logical GPUs\n"
     ]
    }
   ],
   "source": [
    "gpus = tf.config.experimental.list_physical_devices('GPU')\n",
    "if gpus:\n",
    "    try:\n",
    "        # Currently, memory growth needs to be the same across GPUs\n",
    "        for gpu in gpus:\n",
    "            tf.config.experimental.set_memory_growth(gpu, True)\n",
    "        logical_gpus = tf.config.experimental.list_logical_devices('GPU')\n",
    "        print(len(gpus), \"Physical GPUs,\", len(logical_gpus), \"Logical GPUs\")\n",
    "    except RuntimeError as e:\n",
    "        # Memory growth must be set before GPUs have been initialized\n",
    "        print(e)"
   ]
  },
  {
   "cell_type": "code",
   "execution_count": 6,
   "metadata": {
    "cell_id": "2a3ff8f401b141a9b0dff7d27c6b7ca9",
    "deepnote_cell_height": 66,
    "deepnote_cell_type": "code",
    "deepnote_to_be_reexecuted": false,
    "execution_millis": 22,
    "execution_start": 1656164449826,
    "source_hash": "6903f708",
    "tags": []
   },
   "outputs": [
    {
     "data": {
      "text/plain": [
       "[PhysicalDevice(name='/physical_device:GPU:0', device_type='GPU')]"
      ]
     },
     "execution_count": 6,
     "metadata": {},
     "output_type": "execute_result"
    }
   ],
   "source": [
    "gpus"
   ]
  },
  {
   "cell_type": "code",
   "execution_count": 7,
   "metadata": {
    "cell_id": "9f8e3a3e082a4de5a7d21bbbebd833ee",
    "deepnote_cell_type": "code",
    "owner_user_id": "2c307b87-7ef7-4cda-b00b-122cc2b79247",
    "tags": []
   },
   "outputs": [],
   "source": [
    "tokenizer = Tokenizer(filters='!\"#$%&()*+,-/:;<=>?@[\\\\]^_`{|}~\\t\\n')\n",
    "tokenizer.fit_on_texts(train_dataset.desc)"
   ]
  },
  {
   "cell_type": "code",
   "execution_count": 8,
   "metadata": {},
   "outputs": [
    {
     "data": {
      "text/plain": [
       "1313"
      ]
     },
     "execution_count": 8,
     "metadata": {},
     "output_type": "execute_result"
    }
   ],
   "source": [
    "vocab_size = len(tokenizer.word_counts) + 1\n",
    "vocab_size"
   ]
  },
  {
   "cell_type": "code",
   "execution_count": 9,
   "metadata": {},
   "outputs": [],
   "source": [
    "# import gensim\n",
    "from gensim.scripts import glove2word2vec"
   ]
  },
  {
   "cell_type": "code",
   "execution_count": 10,
   "metadata": {},
   "outputs": [
    {
     "name": "stdout",
     "output_type": "stream",
     "text": [
      "loaded\n"
     ]
    }
   ],
   "source": [
    "try:\n",
    "    with open(r\"embedding_matrix.pickle\", \"rb\") as output_file:\n",
    "        embedding_matrix = pickle.load(output_file)\n",
    "    print(\"loaded\")\n",
    "except:\n",
    "    embedding_matrix = np.zeros((vocab_size,300))\n",
    "    filepath = r\"./utils/glove.6B/glove.6B.300d.txt\"\n",
    "    with open(filepath, encoding=\"utf8\") as f:\n",
    "        for line in f:\n",
    "            word, *vector = line.split()\n",
    "            if word in tokenizer.word_index.keys():\n",
    "                idx = tokenizer.word_index[word]\n",
    "                embedding_matrix[idx] = np.array(\n",
    "                    vector, dtype=np.float32)[:300]\n",
    "    with open(r\"embedding_matrix.pickle\", \"wb\") as output_file:\n",
    "        pickle.dump(embedding_matrix, output_file)"
   ]
  },
  {
   "cell_type": "code",
   "execution_count": 11,
   "metadata": {},
   "outputs": [],
   "source": [
    "from tensorflow.keras.applications import densenet\n",
    "chex = densenet.DenseNet121(include_top=False, weights = None,   input_shape=(224,224,3), pooling=\"avg\")\n",
    "X = chex.output\n",
    "X = Dense(14, activation=\"sigmoid\", name=\"predictions\")(X)\n",
    "model = Model(inputs=chex.input, outputs=X)\n",
    "model.load_weights(r'./utils/Image_features_enc.h5')\n",
    "chexnet = Model(inputs = model.input, outputs = model.layers[-2].output)"
   ]
  },
  {
   "cell_type": "code",
   "execution_count": null,
   "metadata": {},
   "outputs": [],
   "source": [
    "chexnet.predict(load_image(get_img_path(train_dataset.values[0][2])))"
   ]
  },
  {
   "cell_type": "code",
   "execution_count": null,
   "metadata": {},
   "outputs": [],
   "source": [
    "chexnet.summary()"
   ]
  },
  {
   "cell_type": "code",
   "execution_count": 13,
   "metadata": {},
   "outputs": [],
   "source": [
    "from PIL import Image\n",
    "def load_image(img_name):\n",
    "    '''Function to load the image'''\n",
    "    image = Image.open(img_name)\n",
    "    image = image.resize((224,224))\n",
    "    image_array = np.asarray(image.convert(\"RGB\"))\n",
    "    image_array = image_array / 255.\n",
    "    \n",
    "    X = np.expand_dims(image_array, axis=0)\n",
    "    X = np.asarray(X) \n",
    "    return X"
   ]
  },
  {
   "cell_type": "code",
   "execution_count": null,
   "metadata": {},
   "outputs": [],
   "source": [
    "Xnet_features = {}\n",
    "for item in train_dataset.values:\n",
    "# item = train_dataset.values[0]\n",
    "img1 = load_image(get_img_path(item[2]))\n",
    "img1_features = chexnet.predict(img1)    \n",
    "# img2 = load_image(get_img_path(item[3]))\n",
    "# img2_features = chexnet.predict(img2)\n",
    "# input_ = np.concatenate((img1_features, img2_features), axis=1)\n",
    "print(img1_features)\n",
    "# break\n",
    "#     Xnet_features[key] = input_"
   ]
  },
  {
   "cell_type": "code",
   "execution_count": null,
   "metadata": {},
   "outputs": [],
   "source": [
    "len(train_dataset.values)"
   ]
  },
  {
   "cell_type": "code",
   "execution_count": null,
   "metadata": {},
   "outputs": [],
   "source": []
  },
  {
   "cell_type": "code",
   "execution_count": null,
   "metadata": {},
   "outputs": [],
   "source": []
  },
  {
   "cell_type": "code",
   "execution_count": null,
   "metadata": {},
   "outputs": [],
   "source": []
  }
 ],
 "metadata": {
  "deepnote": {},
  "deepnote_execution_queue": [],
  "deepnote_notebook_id": "1fa986b9-0fc0-429d-a98a-d2a7e7ed4ab5",
  "kernelspec": {
   "display_name": "Python 3 (ipykernel)",
   "language": "python",
   "name": "python3"
  },
  "language_info": {
   "codemirror_mode": {
    "name": "ipython",
    "version": 3
   },
   "file_extension": ".py",
   "mimetype": "text/x-python",
   "name": "python",
   "nbconvert_exporter": "python",
   "pygments_lexer": "ipython3",
   "version": "3.9.12"
  }
 },
 "nbformat": 4,
 "nbformat_minor": 2
}
